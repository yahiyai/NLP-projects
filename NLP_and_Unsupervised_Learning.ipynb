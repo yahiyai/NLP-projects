{
 "cells": [
  {
   "cell_type": "markdown",
   "metadata": {
    "id": "AzYwUiDkBfVT"
   },
   "source": [
    "#NLP and Unsupervised Learning\n",
    "\n",
    "\n",
    "Done by:\n",
    "\n",
    "\n",
    "1.   Mohammad Alajmi\n",
    "2.   Mohammad Almalki\n",
    "\n",
    "1.   Yahya Alyubi\n",
    "\n",
    "1.   Ghadeer Alghamdi\n",
    "\n",
    "1.   Jamila Alharbi\n",
    "2.   Ghliah maher \n",
    "\n",
    "it is better on google colab\n",
    "\n",
    "\n",
    "\n",
    "\n",
    "\n",
    "\n",
    "\n",
    "\n",
    "\n"
   ]
  },
  {
   "cell_type": "markdown",
   "metadata": {
    "id": "kR4Jvg68Bn3R"
   },
   "source": [
    "install pip"
   ]
  },
  {
   "cell_type": "code",
   "execution_count": 1,
   "metadata": {
    "colab": {
     "base_uri": "https://localhost:8080/"
    },
    "id": "M2Ytt7Rs9Spf",
    "outputId": "59f6e2a8-4767-4e29-9a7b-4e9debba1004"
   },
   "outputs": [
    {
     "name": "stdout",
     "output_type": "stream",
     "text": [
      "Requirement already satisfied: camel-tools in /usr/local/lib/python3.7/dist-packages (1.2.0)\n",
      "Requirement already satisfied: cachetools in /usr/local/lib/python3.7/dist-packages (from camel-tools) (4.2.4)\n",
      "Requirement already satisfied: dill in /usr/local/lib/python3.7/dist-packages (from camel-tools) (0.3.4)\n",
      "Requirement already satisfied: numpy in /usr/local/lib/python3.7/dist-packages (from camel-tools) (1.19.5)\n",
      "Requirement already satisfied: scikit-learn in /usr/local/lib/python3.7/dist-packages (from camel-tools) (1.0.1)\n",
      "Requirement already satisfied: six in /usr/local/lib/python3.7/dist-packages (from camel-tools) (1.15.0)\n",
      "Requirement already satisfied: torch>=1.3 in /usr/local/lib/python3.7/dist-packages (from camel-tools) (1.10.0+cu111)\n",
      "Requirement already satisfied: transformers>=3.0.2 in /usr/local/lib/python3.7/dist-packages (from camel-tools) (4.15.0)\n",
      "Requirement already satisfied: editdistance in /usr/local/lib/python3.7/dist-packages (from camel-tools) (0.5.3)\n",
      "Requirement already satisfied: camel-kenlm in /usr/local/lib/python3.7/dist-packages (from camel-tools) (2021.12.27)\n",
      "Requirement already satisfied: docopt in /usr/local/lib/python3.7/dist-packages (from camel-tools) (0.6.2)\n",
      "Requirement already satisfied: requests in /root/.local/lib/python3.7/site-packages (from camel-tools) (2.26.0)\n",
      "Requirement already satisfied: scipy in /usr/local/lib/python3.7/dist-packages (from camel-tools) (1.4.1)\n",
      "Requirement already satisfied: future in /usr/local/lib/python3.7/dist-packages (from camel-tools) (0.16.0)\n",
      "Requirement already satisfied: pandas in /usr/local/lib/python3.7/dist-packages (from camel-tools) (1.1.5)\n",
      "Requirement already satisfied: typing-extensions in /usr/local/lib/python3.7/dist-packages (from torch>=1.3->camel-tools) (3.10.0.2)\n",
      "Requirement already satisfied: huggingface-hub<1.0,>=0.1.0 in /usr/local/lib/python3.7/dist-packages (from transformers>=3.0.2->camel-tools) (0.2.1)\n",
      "Requirement already satisfied: pyyaml>=5.1 in /usr/local/lib/python3.7/dist-packages (from transformers>=3.0.2->camel-tools) (6.0)\n",
      "Requirement already satisfied: tokenizers<0.11,>=0.10.1 in /usr/local/lib/python3.7/dist-packages (from transformers>=3.0.2->camel-tools) (0.10.3)\n",
      "Requirement already satisfied: filelock in /usr/local/lib/python3.7/dist-packages (from transformers>=3.0.2->camel-tools) (3.4.0)\n",
      "Requirement already satisfied: importlib-metadata in /root/.local/lib/python3.7/site-packages (from transformers>=3.0.2->camel-tools) (3.10.1)\n",
      "Requirement already satisfied: packaging>=20.0 in /usr/local/lib/python3.7/dist-packages (from transformers>=3.0.2->camel-tools) (21.3)\n",
      "Requirement already satisfied: tqdm>=4.27 in /usr/local/lib/python3.7/dist-packages (from transformers>=3.0.2->camel-tools) (4.62.3)\n",
      "Requirement already satisfied: sacremoses in /usr/local/lib/python3.7/dist-packages (from transformers>=3.0.2->camel-tools) (0.0.46)\n",
      "Requirement already satisfied: regex!=2019.12.17 in /usr/local/lib/python3.7/dist-packages (from transformers>=3.0.2->camel-tools) (2019.12.20)\n",
      "Requirement already satisfied: pyparsing!=3.0.5,>=2.0.2 in /usr/local/lib/python3.7/dist-packages (from packaging>=20.0->transformers>=3.0.2->camel-tools) (3.0.6)\n",
      "Requirement already satisfied: zipp>=0.5 in /usr/local/lib/python3.7/dist-packages (from importlib-metadata->transformers>=3.0.2->camel-tools) (3.6.0)\n",
      "Requirement already satisfied: python-dateutil>=2.7.3 in /usr/local/lib/python3.7/dist-packages (from pandas->camel-tools) (2.8.2)\n",
      "Requirement already satisfied: pytz>=2017.2 in /usr/local/lib/python3.7/dist-packages (from pandas->camel-tools) (2018.9)\n",
      "Requirement already satisfied: charset-normalizer~=2.0.0 in /usr/local/lib/python3.7/dist-packages (from requests->camel-tools) (2.0.8)\n",
      "Requirement already satisfied: urllib3<1.27,>=1.21.1 in /usr/local/lib/python3.7/dist-packages (from requests->camel-tools) (1.24.3)\n",
      "Requirement already satisfied: certifi>=2017.4.17 in /usr/local/lib/python3.7/dist-packages (from requests->camel-tools) (2021.10.8)\n",
      "Requirement already satisfied: idna<4,>=2.5 in /usr/local/lib/python3.7/dist-packages (from requests->camel-tools) (2.10)\n",
      "Requirement already satisfied: joblib in /usr/local/lib/python3.7/dist-packages (from sacremoses->transformers>=3.0.2->camel-tools) (1.1.0)\n",
      "Requirement already satisfied: click in /usr/local/lib/python3.7/dist-packages (from sacremoses->transformers>=3.0.2->camel-tools) (7.1.2)\n",
      "Requirement already satisfied: threadpoolctl>=2.0.0 in /usr/local/lib/python3.7/dist-packages (from scikit-learn->camel-tools) (3.0.0)\n"
     ]
    }
   ],
   "source": [
    "!pip install camel-tools"
   ]
  },
  {
   "cell_type": "code",
   "execution_count": 2,
   "metadata": {
    "colab": {
     "base_uri": "https://localhost:8080/"
    },
    "id": "UaV3tPnsBnl7",
    "outputId": "dffea07d-f889-4552-fd3a-e30c1227d1aa"
   },
   "outputs": [
    {
     "name": "stdout",
     "output_type": "stream",
     "text": [
      "Requirement already satisfied: farasapy in /usr/local/lib/python3.7/dist-packages (0.0.14)\n",
      "Requirement already satisfied: tqdm in /usr/local/lib/python3.7/dist-packages (from farasapy) (4.62.3)\n",
      "Requirement already satisfied: requests in /root/.local/lib/python3.7/site-packages (from farasapy) (2.26.0)\n",
      "Requirement already satisfied: idna<4,>=2.5 in /usr/local/lib/python3.7/dist-packages (from requests->farasapy) (2.10)\n",
      "Requirement already satisfied: certifi>=2017.4.17 in /usr/local/lib/python3.7/dist-packages (from requests->farasapy) (2021.10.8)\n",
      "Requirement already satisfied: charset-normalizer~=2.0.0 in /usr/local/lib/python3.7/dist-packages (from requests->farasapy) (2.0.8)\n",
      "Requirement already satisfied: urllib3<1.27,>=1.21.1 in /usr/local/lib/python3.7/dist-packages (from requests->farasapy) (1.24.3)\n"
     ]
    }
   ],
   "source": [
    "!pip  install -U farasapy"
   ]
  },
  {
   "cell_type": "code",
   "execution_count": 3,
   "metadata": {
    "id": "SNa-KtKDRnus"
   },
   "outputs": [],
   "source": [
    "# !pip install bertopic[all]"
   ]
  },
  {
   "cell_type": "code",
   "execution_count": 4,
   "metadata": {
    "colab": {
     "base_uri": "https://localhost:8080/"
    },
    "id": "psvVfgPf3uWT",
    "outputId": "73aa3db6-e574-4cf5-daf1-3d4a879aeb0e"
   },
   "outputs": [
    {
     "name": "stdout",
     "output_type": "stream",
     "text": [
      "Requirement already satisfied: flair in /root/.local/lib/python3.7/site-packages (0.10)\n",
      "Requirement already satisfied: sqlitedict>=1.6.0 in /root/.local/lib/python3.7/site-packages (from flair) (1.7.0)\n",
      "Requirement already satisfied: huggingface-hub in /usr/local/lib/python3.7/dist-packages (from flair) (0.2.1)\n",
      "Requirement already satisfied: lxml in /usr/local/lib/python3.7/dist-packages (from flair) (4.2.6)\n",
      "Requirement already satisfied: janome in /root/.local/lib/python3.7/site-packages (from flair) (0.4.1)\n",
      "Requirement already satisfied: segtok>=1.5.7 in /root/.local/lib/python3.7/site-packages (from flair) (1.5.11)\n",
      "Requirement already satisfied: gensim>=3.4.0 in /usr/local/lib/python3.7/dist-packages (from flair) (3.6.0)\n",
      "Requirement already satisfied: more-itertools~=8.8.0 in /root/.local/lib/python3.7/site-packages (from flair) (8.8.0)\n",
      "Requirement already satisfied: wikipedia-api in /root/.local/lib/python3.7/site-packages (from flair) (0.5.4)\n",
      "Requirement already satisfied: transformers>=4.0.0 in /usr/local/lib/python3.7/dist-packages (from flair) (4.15.0)\n",
      "Requirement already satisfied: python-dateutil>=2.6.1 in /usr/local/lib/python3.7/dist-packages (from flair) (2.8.2)\n",
      "Requirement already satisfied: scikit-learn>=0.21.3 in /usr/local/lib/python3.7/dist-packages (from flair) (1.0.1)\n",
      "Requirement already satisfied: matplotlib>=2.2.3 in /usr/local/lib/python3.7/dist-packages (from flair) (3.2.2)\n",
      "Requirement already satisfied: ftfy in /root/.local/lib/python3.7/site-packages (from flair) (6.0.3)\n",
      "Requirement already satisfied: deprecated>=1.2.4 in /root/.local/lib/python3.7/site-packages (from flair) (1.2.13)\n",
      "Requirement already satisfied: mpld3==0.3 in /root/.local/lib/python3.7/site-packages (from flair) (0.3)\n",
      "Requirement already satisfied: torch!=1.8,>=1.5.0 in /usr/local/lib/python3.7/dist-packages (from flair) (1.10.0+cu111)\n",
      "Requirement already satisfied: konoha<5.0.0,>=4.0.0 in /root/.local/lib/python3.7/site-packages (from flair) (4.6.5)\n",
      "Requirement already satisfied: tabulate in /usr/local/lib/python3.7/dist-packages (from flair) (0.8.9)\n",
      "Requirement already satisfied: gdown==3.12.2 in /root/.local/lib/python3.7/site-packages (from flair) (3.12.2)\n",
      "Requirement already satisfied: langdetect in /root/.local/lib/python3.7/site-packages (from flair) (1.0.9)\n",
      "Requirement already satisfied: conllu>=4.0 in /root/.local/lib/python3.7/site-packages (from flair) (4.4.1)\n",
      "Requirement already satisfied: sentencepiece==0.1.95 in /root/.local/lib/python3.7/site-packages (from flair) (0.1.95)\n",
      "Requirement already satisfied: regex in /usr/local/lib/python3.7/dist-packages (from flair) (2019.12.20)\n",
      "Requirement already satisfied: bpemb>=0.3.2 in /root/.local/lib/python3.7/site-packages (from flair) (0.3.3)\n",
      "Requirement already satisfied: tqdm>=4.26.0 in /usr/local/lib/python3.7/dist-packages (from flair) (4.62.3)\n",
      "Requirement already satisfied: filelock in /usr/local/lib/python3.7/dist-packages (from gdown==3.12.2->flair) (3.4.0)\n",
      "Requirement already satisfied: six in /usr/local/lib/python3.7/dist-packages (from gdown==3.12.2->flair) (1.15.0)\n",
      "Requirement already satisfied: requests[socks] in /root/.local/lib/python3.7/site-packages (from gdown==3.12.2->flair) (2.26.0)\n",
      "Requirement already satisfied: numpy in /usr/local/lib/python3.7/dist-packages (from bpemb>=0.3.2->flair) (1.19.5)\n",
      "Requirement already satisfied: wrapt<2,>=1.10 in /usr/local/lib/python3.7/dist-packages (from deprecated>=1.2.4->flair) (1.13.3)\n",
      "Requirement already satisfied: scipy>=0.18.1 in /usr/local/lib/python3.7/dist-packages (from gensim>=3.4.0->flair) (1.4.1)\n",
      "Requirement already satisfied: smart-open>=1.2.1 in /usr/local/lib/python3.7/dist-packages (from gensim>=3.4.0->flair) (5.2.1)\n",
      "Requirement already satisfied: overrides<4.0.0,>=3.0.0 in /root/.local/lib/python3.7/site-packages (from konoha<5.0.0,>=4.0.0->flair) (3.1.0)\n",
      "Requirement already satisfied: importlib-metadata<4.0.0,>=3.7.0 in /root/.local/lib/python3.7/site-packages (from konoha<5.0.0,>=4.0.0->flair) (3.10.1)\n",
      "Requirement already satisfied: typing-extensions>=3.6.4 in /usr/local/lib/python3.7/dist-packages (from importlib-metadata<4.0.0,>=3.7.0->konoha<5.0.0,>=4.0.0->flair) (3.10.0.2)\n",
      "Requirement already satisfied: zipp>=0.5 in /usr/local/lib/python3.7/dist-packages (from importlib-metadata<4.0.0,>=3.7.0->konoha<5.0.0,>=4.0.0->flair) (3.6.0)\n",
      "Requirement already satisfied: pyparsing!=2.0.4,!=2.1.2,!=2.1.6,>=2.0.1 in /usr/local/lib/python3.7/dist-packages (from matplotlib>=2.2.3->flair) (3.0.6)\n",
      "Requirement already satisfied: cycler>=0.10 in /usr/local/lib/python3.7/dist-packages (from matplotlib>=2.2.3->flair) (0.11.0)\n",
      "Requirement already satisfied: kiwisolver>=1.0.1 in /usr/local/lib/python3.7/dist-packages (from matplotlib>=2.2.3->flair) (1.3.2)\n",
      "Requirement already satisfied: urllib3<1.27,>=1.21.1 in /usr/local/lib/python3.7/dist-packages (from requests[socks]->gdown==3.12.2->flair) (1.24.3)\n",
      "Requirement already satisfied: certifi>=2017.4.17 in /usr/local/lib/python3.7/dist-packages (from requests[socks]->gdown==3.12.2->flair) (2021.10.8)\n",
      "Requirement already satisfied: charset-normalizer~=2.0.0 in /usr/local/lib/python3.7/dist-packages (from requests[socks]->gdown==3.12.2->flair) (2.0.8)\n",
      "Requirement already satisfied: idna<4,>=2.5 in /usr/local/lib/python3.7/dist-packages (from requests[socks]->gdown==3.12.2->flair) (2.10)\n",
      "Requirement already satisfied: joblib>=0.11 in /usr/local/lib/python3.7/dist-packages (from scikit-learn>=0.21.3->flair) (1.1.0)\n",
      "Requirement already satisfied: threadpoolctl>=2.0.0 in /usr/local/lib/python3.7/dist-packages (from scikit-learn>=0.21.3->flair) (3.0.0)\n",
      "Requirement already satisfied: sacremoses in /usr/local/lib/python3.7/dist-packages (from transformers>=4.0.0->flair) (0.0.46)\n",
      "Requirement already satisfied: pyyaml>=5.1 in /usr/local/lib/python3.7/dist-packages (from transformers>=4.0.0->flair) (6.0)\n",
      "Requirement already satisfied: tokenizers<0.11,>=0.10.1 in /usr/local/lib/python3.7/dist-packages (from transformers>=4.0.0->flair) (0.10.3)\n",
      "Requirement already satisfied: packaging>=20.0 in /usr/local/lib/python3.7/dist-packages (from transformers>=4.0.0->flair) (21.3)\n",
      "Requirement already satisfied: wcwidth in /usr/local/lib/python3.7/dist-packages (from ftfy->flair) (0.2.5)\n",
      "Requirement already satisfied: PySocks!=1.5.7,>=1.5.6 in /usr/local/lib/python3.7/dist-packages (from requests[socks]->gdown==3.12.2->flair) (1.7.1)\n",
      "Requirement already satisfied: click in /usr/local/lib/python3.7/dist-packages (from sacremoses->transformers>=4.0.0->flair) (7.1.2)\n"
     ]
    }
   ],
   "source": [
    "!pip install --user flair\n"
   ]
  },
  {
   "cell_type": "markdown",
   "metadata": {
    "id": "s7JI6AvHB6Pt"
   },
   "source": [
    "import libraries"
   ]
  },
  {
   "cell_type": "code",
   "execution_count": 5,
   "metadata": {
    "id": "eGjZitDgGKup"
   },
   "outputs": [],
   "source": [
    "import pandas as pd\n",
    "# from bertopic import BERTopic\n",
    "from flair.embeddings import TransformerDocumentEmbeddings\n",
    "from gensim.models.coherencemodel import CoherenceModel\n",
    "import gensim.corpora as corpora\n",
    "from gensim.models import LdaMulticore\n",
    "from nltk.corpus import stopwords\n",
    "from nltk.tokenize import word_tokenize\n",
    "from transformers import AutoTokenizer, AutoModelForTokenClassification\n",
    "from transformers import pipeline\n",
    "\n",
    "\n",
    "from sklearn.feature_extraction.text import TfidfVectorizer\n",
    "from sklearn.decomposition import NMF\n",
    "from sklearn.feature_extraction.text import CountVectorizer\n",
    "from camel_tools.utils.normalize import normalize_alef_ar\n",
    "from camel_tools.utils.normalize import normalize_teh_marbuta_ar\n",
    "from camel_tools.utils.normalize import normalize_alef_maksura_ar\n",
    "\n",
    "from farasa.pos import FarasaPOSTagger\n",
    "from farasa.ner import FarasaNamedEntityRecognizer\n",
    "from farasa.diacratizer import FarasaDiacritizer\n",
    "from farasa.segmenter import FarasaSegmenter\n",
    "from farasa.stemmer import FarasaStemmer"
   ]
  },
  {
   "cell_type": "code",
   "execution_count": 6,
   "metadata": {
    "colab": {
     "base_uri": "https://localhost:8080/"
    },
    "id": "ZExreG58Bhf9",
    "outputId": "e306f11e-81b5-4a10-83ce-afe7486e0cae"
   },
   "outputs": [
    {
     "name": "stdout",
     "output_type": "stream",
     "text": [
      "[nltk_data] Downloading package stopwords to /root/nltk_data...\n",
      "[nltk_data]   Unzipping corpora/stopwords.zip.\n",
      "[nltk_data] Downloading package punkt to /root/nltk_data...\n",
      "[nltk_data]   Unzipping tokenizers/punkt.zip.\n"
     ]
    },
    {
     "data": {
      "text/plain": [
       "True"
      ]
     },
     "execution_count": 6,
     "metadata": {},
     "output_type": "execute_result"
    }
   ],
   "source": [
    "import nltk\n",
    "nltk.download('stopwords')\n",
    "nltk.download('punkt')"
   ]
  },
  {
   "cell_type": "markdown",
   "metadata": {
    "id": "Pyd1PrqeHI5O"
   },
   "source": [
    "# Load Data\n",
    "the data was generated by the developing team using web scrapping and google foems."
   ]
  },
  {
   "cell_type": "code",
   "execution_count": 8,
   "metadata": {
    "colab": {
     "base_uri": "https://localhost:8080/"
    },
    "id": "Hxs5jgSq9XUS",
    "outputId": "a418f6c6-f238-400d-8834-844029448001"
   },
   "outputs": [
    {
     "name": "stdout",
     "output_type": "stream",
     "text": [
      "Mounted at /content/drive\n"
     ]
    }
   ],
   "source": [
    "from google.colab import drive\n",
    "drive.mount('/content/drive')"
   ]
  },
  {
   "cell_type": "code",
   "execution_count": 9,
   "metadata": {
    "colab": {
     "base_uri": "https://localhost:8080/",
     "height": 424
    },
    "id": "D4D7RY36GF0L",
    "outputId": "546cf3af-4790-49b8-c3fa-a2ea88034d30"
   },
   "outputs": [
    {
     "data": {
      "text/html": [
       "\n",
       "  <div id=\"df-5bb7a18e-0002-475c-a937-92531656b9cd\">\n",
       "    <div class=\"colab-df-container\">\n",
       "      <div>\n",
       "<style scoped>\n",
       "    .dataframe tbody tr th:only-of-type {\n",
       "        vertical-align: middle;\n",
       "    }\n",
       "\n",
       "    .dataframe tbody tr th {\n",
       "        vertical-align: top;\n",
       "    }\n",
       "\n",
       "    .dataframe thead th {\n",
       "        text-align: right;\n",
       "    }\n",
       "</style>\n",
       "<table border=\"1\" class=\"dataframe\">\n",
       "  <thead>\n",
       "    <tr style=\"text-align: right;\">\n",
       "      <th></th>\n",
       "      <th>text</th>\n",
       "    </tr>\n",
       "  </thead>\n",
       "  <tbody>\n",
       "    <tr>\n",
       "      <th>0</th>\n",
       "      <td>هناك شخص واقف خلف سيارتى</td>\n",
       "    </tr>\n",
       "    <tr>\n",
       "      <th>1</th>\n",
       "      <td>هناك شخص متوقف خلف سيارتى</td>\n",
       "    </tr>\n",
       "    <tr>\n",
       "      <th>2</th>\n",
       "      <td>في احد موقف ورا سيارتي</td>\n",
       "    </tr>\n",
       "    <tr>\n",
       "      <th>3</th>\n",
       "      <td>فيه واحد موقف ورا سيارتي</td>\n",
       "    </tr>\n",
       "    <tr>\n",
       "      <th>4</th>\n",
       "      <td>فيه واحد واقف وراي</td>\n",
       "    </tr>\n",
       "    <tr>\n",
       "      <th>...</th>\n",
       "      <td>...</td>\n",
       "    </tr>\n",
       "    <tr>\n",
       "      <th>607</th>\n",
       "      <td>ما هو مبلغ مخالفاتي</td>\n",
       "    </tr>\n",
       "    <tr>\n",
       "      <th>608</th>\n",
       "      <td>وجدت مخالفات جديدة وأودّ الاستفسار عن وقت حدوثها</td>\n",
       "    </tr>\n",
       "    <tr>\n",
       "      <th>609</th>\n",
       "      <td>هل علي مخالفات</td>\n",
       "    </tr>\n",
       "    <tr>\n",
       "      <th>610</th>\n",
       "      <td>ماهي فواتيري</td>\n",
       "    </tr>\n",
       "    <tr>\n",
       "      <th>611</th>\n",
       "      <td>هل لي ان اعرف نوع المخالفة</td>\n",
       "    </tr>\n",
       "  </tbody>\n",
       "</table>\n",
       "<p>612 rows × 1 columns</p>\n",
       "</div>\n",
       "      <button class=\"colab-df-convert\" onclick=\"convertToInteractive('df-5bb7a18e-0002-475c-a937-92531656b9cd')\"\n",
       "              title=\"Convert this dataframe to an interactive table.\"\n",
       "              style=\"display:none;\">\n",
       "        \n",
       "  <svg xmlns=\"http://www.w3.org/2000/svg\" height=\"24px\"viewBox=\"0 0 24 24\"\n",
       "       width=\"24px\">\n",
       "    <path d=\"M0 0h24v24H0V0z\" fill=\"none\"/>\n",
       "    <path d=\"M18.56 5.44l.94 2.06.94-2.06 2.06-.94-2.06-.94-.94-2.06-.94 2.06-2.06.94zm-11 1L8.5 8.5l.94-2.06 2.06-.94-2.06-.94L8.5 2.5l-.94 2.06-2.06.94zm10 10l.94 2.06.94-2.06 2.06-.94-2.06-.94-.94-2.06-.94 2.06-2.06.94z\"/><path d=\"M17.41 7.96l-1.37-1.37c-.4-.4-.92-.59-1.43-.59-.52 0-1.04.2-1.43.59L10.3 9.45l-7.72 7.72c-.78.78-.78 2.05 0 2.83L4 21.41c.39.39.9.59 1.41.59.51 0 1.02-.2 1.41-.59l7.78-7.78 2.81-2.81c.8-.78.8-2.07 0-2.86zM5.41 20L4 18.59l7.72-7.72 1.47 1.35L5.41 20z\"/>\n",
       "  </svg>\n",
       "      </button>\n",
       "      \n",
       "  <style>\n",
       "    .colab-df-container {\n",
       "      display:flex;\n",
       "      flex-wrap:wrap;\n",
       "      gap: 12px;\n",
       "    }\n",
       "\n",
       "    .colab-df-convert {\n",
       "      background-color: #E8F0FE;\n",
       "      border: none;\n",
       "      border-radius: 50%;\n",
       "      cursor: pointer;\n",
       "      display: none;\n",
       "      fill: #1967D2;\n",
       "      height: 32px;\n",
       "      padding: 0 0 0 0;\n",
       "      width: 32px;\n",
       "    }\n",
       "\n",
       "    .colab-df-convert:hover {\n",
       "      background-color: #E2EBFA;\n",
       "      box-shadow: 0px 1px 2px rgba(60, 64, 67, 0.3), 0px 1px 3px 1px rgba(60, 64, 67, 0.15);\n",
       "      fill: #174EA6;\n",
       "    }\n",
       "\n",
       "    [theme=dark] .colab-df-convert {\n",
       "      background-color: #3B4455;\n",
       "      fill: #D2E3FC;\n",
       "    }\n",
       "\n",
       "    [theme=dark] .colab-df-convert:hover {\n",
       "      background-color: #434B5C;\n",
       "      box-shadow: 0px 1px 3px 1px rgba(0, 0, 0, 0.15);\n",
       "      filter: drop-shadow(0px 1px 2px rgba(0, 0, 0, 0.3));\n",
       "      fill: #FFFFFF;\n",
       "    }\n",
       "  </style>\n",
       "\n",
       "      <script>\n",
       "        const buttonEl =\n",
       "          document.querySelector('#df-5bb7a18e-0002-475c-a937-92531656b9cd button.colab-df-convert');\n",
       "        buttonEl.style.display =\n",
       "          google.colab.kernel.accessAllowed ? 'block' : 'none';\n",
       "\n",
       "        async function convertToInteractive(key) {\n",
       "          const element = document.querySelector('#df-5bb7a18e-0002-475c-a937-92531656b9cd');\n",
       "          const dataTable =\n",
       "            await google.colab.kernel.invokeFunction('convertToInteractive',\n",
       "                                                     [key], {});\n",
       "          if (!dataTable) return;\n",
       "\n",
       "          const docLinkHtml = 'Like what you see? Visit the ' +\n",
       "            '<a target=\"_blank\" href=https://colab.research.google.com/notebooks/data_table.ipynb>data table notebook</a>'\n",
       "            + ' to learn more about interactive tables.';\n",
       "          element.innerHTML = '';\n",
       "          dataTable['output_type'] = 'display_data';\n",
       "          await google.colab.output.renderOutput(dataTable, element);\n",
       "          const docLink = document.createElement('div');\n",
       "          docLink.innerHTML = docLinkHtml;\n",
       "          element.appendChild(docLink);\n",
       "        }\n",
       "      </script>\n",
       "    </div>\n",
       "  </div>\n",
       "  "
      ],
      "text/plain": [
       "                                                 text\n",
       "0                           هناك شخص واقف خلف سيارتى \n",
       "1                           هناك شخص متوقف خلف سيارتى\n",
       "2                             في احد موقف ورا سيارتي \n",
       "3                           فيه واحد موقف ورا سيارتي \n",
       "4                                 فيه واحد واقف وراي \n",
       "..                                                ...\n",
       "607                               ما هو مبلغ مخالفاتي\n",
       "608  وجدت مخالفات جديدة وأودّ الاستفسار عن وقت حدوثها\n",
       "609                                    هل علي مخالفات\n",
       "610                                      ماهي فواتيري\n",
       "611                        هل لي ان اعرف نوع المخالفة\n",
       "\n",
       "[612 rows x 1 columns]"
      ]
     },
     "execution_count": 9,
     "metadata": {},
     "output_type": "execute_result"
    }
   ],
   "source": [
    "data=  pd.read_excel (\"/content/drive/MyDrive/NLP/احتمالات الشكاوى.xlsx\")\n",
    "data"
   ]
  },
  {
   "cell_type": "code",
   "execution_count": 10,
   "metadata": {
    "id": "v5Znx7MIf4UX"
   },
   "outputs": [],
   "source": [
    "# data.shape"
   ]
  },
  {
   "cell_type": "markdown",
   "metadata": {
    "id": "FV3SAzGmOSjf"
   },
   "source": [
    "#Preprocessing\n",
    "\n",
    "\n",
    "\n",
    "1.   replace some words\n",
    "2.   remove stopwords\n",
    "\n",
    "1.   normlize (ا,ى,ه)\n",
    "\n",
    "1.   stemming\n",
    "2.   more replacing with the correct word\n",
    "\n",
    "2.   part of speach \n",
    "\n",
    "1.   count vectorizor\n",
    "\n",
    "\n",
    "\n",
    "\n",
    "\n",
    "\n",
    "\n",
    "\n",
    "\n",
    "\n",
    "\n"
   ]
  },
  {
   "cell_type": "code",
   "execution_count": 11,
   "metadata": {
    "colab": {
     "base_uri": "https://localhost:8080/",
     "height": 424
    },
    "id": "ZcBjVmIpEVJN",
    "outputId": "652479e7-072a-477a-f0cb-eaa2dd72bdca"
   },
   "outputs": [
    {
     "data": {
      "text/html": [
       "\n",
       "  <div id=\"df-6dd9b382-1fdc-4836-be84-5921d00447dc\">\n",
       "    <div class=\"colab-df-container\">\n",
       "      <div>\n",
       "<style scoped>\n",
       "    .dataframe tbody tr th:only-of-type {\n",
       "        vertical-align: middle;\n",
       "    }\n",
       "\n",
       "    .dataframe tbody tr th {\n",
       "        vertical-align: top;\n",
       "    }\n",
       "\n",
       "    .dataframe thead th {\n",
       "        text-align: right;\n",
       "    }\n",
       "</style>\n",
       "<table border=\"1\" class=\"dataframe\">\n",
       "  <thead>\n",
       "    <tr style=\"text-align: right;\">\n",
       "      <th></th>\n",
       "      <th>text</th>\n",
       "    </tr>\n",
       "  </thead>\n",
       "  <tbody>\n",
       "    <tr>\n",
       "      <th>0</th>\n",
       "      <td>هناك شخص واقف خلف سيارتى</td>\n",
       "    </tr>\n",
       "    <tr>\n",
       "      <th>1</th>\n",
       "      <td>هناك شخص متوقف خلف سيارتى</td>\n",
       "    </tr>\n",
       "    <tr>\n",
       "      <th>2</th>\n",
       "      <td>في احد موقف خلف سيارتي</td>\n",
       "    </tr>\n",
       "    <tr>\n",
       "      <th>3</th>\n",
       "      <td>فيه واحد موقف خلف سيارتي</td>\n",
       "    </tr>\n",
       "    <tr>\n",
       "      <th>4</th>\n",
       "      <td>فيه واحد واقف خلفي</td>\n",
       "    </tr>\n",
       "    <tr>\n",
       "      <th>...</th>\n",
       "      <td>...</td>\n",
       "    </tr>\n",
       "    <tr>\n",
       "      <th>607</th>\n",
       "      <td>ما هو مبلغ مخالفاتي</td>\n",
       "    </tr>\n",
       "    <tr>\n",
       "      <th>608</th>\n",
       "      <td>وجدت مخالفات جديدة وأودّ الاستفسار عن وقت حدوثها</td>\n",
       "    </tr>\n",
       "    <tr>\n",
       "      <th>609</th>\n",
       "      <td>هل علي مخالفات</td>\n",
       "    </tr>\n",
       "    <tr>\n",
       "      <th>610</th>\n",
       "      <td>ماهي فواتيري</td>\n",
       "    </tr>\n",
       "    <tr>\n",
       "      <th>611</th>\n",
       "      <td>هل لي ان اعرف نوع المخالفة</td>\n",
       "    </tr>\n",
       "  </tbody>\n",
       "</table>\n",
       "<p>612 rows × 1 columns</p>\n",
       "</div>\n",
       "      <button class=\"colab-df-convert\" onclick=\"convertToInteractive('df-6dd9b382-1fdc-4836-be84-5921d00447dc')\"\n",
       "              title=\"Convert this dataframe to an interactive table.\"\n",
       "              style=\"display:none;\">\n",
       "        \n",
       "  <svg xmlns=\"http://www.w3.org/2000/svg\" height=\"24px\"viewBox=\"0 0 24 24\"\n",
       "       width=\"24px\">\n",
       "    <path d=\"M0 0h24v24H0V0z\" fill=\"none\"/>\n",
       "    <path d=\"M18.56 5.44l.94 2.06.94-2.06 2.06-.94-2.06-.94-.94-2.06-.94 2.06-2.06.94zm-11 1L8.5 8.5l.94-2.06 2.06-.94-2.06-.94L8.5 2.5l-.94 2.06-2.06.94zm10 10l.94 2.06.94-2.06 2.06-.94-2.06-.94-.94-2.06-.94 2.06-2.06.94z\"/><path d=\"M17.41 7.96l-1.37-1.37c-.4-.4-.92-.59-1.43-.59-.52 0-1.04.2-1.43.59L10.3 9.45l-7.72 7.72c-.78.78-.78 2.05 0 2.83L4 21.41c.39.39.9.59 1.41.59.51 0 1.02-.2 1.41-.59l7.78-7.78 2.81-2.81c.8-.78.8-2.07 0-2.86zM5.41 20L4 18.59l7.72-7.72 1.47 1.35L5.41 20z\"/>\n",
       "  </svg>\n",
       "      </button>\n",
       "      \n",
       "  <style>\n",
       "    .colab-df-container {\n",
       "      display:flex;\n",
       "      flex-wrap:wrap;\n",
       "      gap: 12px;\n",
       "    }\n",
       "\n",
       "    .colab-df-convert {\n",
       "      background-color: #E8F0FE;\n",
       "      border: none;\n",
       "      border-radius: 50%;\n",
       "      cursor: pointer;\n",
       "      display: none;\n",
       "      fill: #1967D2;\n",
       "      height: 32px;\n",
       "      padding: 0 0 0 0;\n",
       "      width: 32px;\n",
       "    }\n",
       "\n",
       "    .colab-df-convert:hover {\n",
       "      background-color: #E2EBFA;\n",
       "      box-shadow: 0px 1px 2px rgba(60, 64, 67, 0.3), 0px 1px 3px 1px rgba(60, 64, 67, 0.15);\n",
       "      fill: #174EA6;\n",
       "    }\n",
       "\n",
       "    [theme=dark] .colab-df-convert {\n",
       "      background-color: #3B4455;\n",
       "      fill: #D2E3FC;\n",
       "    }\n",
       "\n",
       "    [theme=dark] .colab-df-convert:hover {\n",
       "      background-color: #434B5C;\n",
       "      box-shadow: 0px 1px 3px 1px rgba(0, 0, 0, 0.15);\n",
       "      filter: drop-shadow(0px 1px 2px rgba(0, 0, 0, 0.3));\n",
       "      fill: #FFFFFF;\n",
       "    }\n",
       "  </style>\n",
       "\n",
       "      <script>\n",
       "        const buttonEl =\n",
       "          document.querySelector('#df-6dd9b382-1fdc-4836-be84-5921d00447dc button.colab-df-convert');\n",
       "        buttonEl.style.display =\n",
       "          google.colab.kernel.accessAllowed ? 'block' : 'none';\n",
       "\n",
       "        async function convertToInteractive(key) {\n",
       "          const element = document.querySelector('#df-6dd9b382-1fdc-4836-be84-5921d00447dc');\n",
       "          const dataTable =\n",
       "            await google.colab.kernel.invokeFunction('convertToInteractive',\n",
       "                                                     [key], {});\n",
       "          if (!dataTable) return;\n",
       "\n",
       "          const docLinkHtml = 'Like what you see? Visit the ' +\n",
       "            '<a target=\"_blank\" href=https://colab.research.google.com/notebooks/data_table.ipynb>data table notebook</a>'\n",
       "            + ' to learn more about interactive tables.';\n",
       "          element.innerHTML = '';\n",
       "          dataTable['output_type'] = 'display_data';\n",
       "          await google.colab.output.renderOutput(dataTable, element);\n",
       "          const docLink = document.createElement('div');\n",
       "          docLink.innerHTML = docLinkHtml;\n",
       "          element.appendChild(docLink);\n",
       "        }\n",
       "      </script>\n",
       "    </div>\n",
       "  </div>\n",
       "  "
      ],
      "text/plain": [
       "                                                 text\n",
       "0                           هناك شخص واقف خلف سيارتى \n",
       "1                           هناك شخص متوقف خلف سيارتى\n",
       "2                             في احد موقف خلف سيارتي \n",
       "3                           فيه واحد موقف خلف سيارتي \n",
       "4                                 فيه واحد واقف خلفي \n",
       "..                                                ...\n",
       "607                               ما هو مبلغ مخالفاتي\n",
       "608  وجدت مخالفات جديدة وأودّ الاستفسار عن وقت حدوثها\n",
       "609                                    هل علي مخالفات\n",
       "610                                      ماهي فواتيري\n",
       "611                        هل لي ان اعرف نوع المخالفة\n",
       "\n",
       "[612 rows x 1 columns]"
      ]
     },
     "execution_count": 11,
     "metadata": {},
     "output_type": "execute_result"
    }
   ],
   "source": [
    "data['text'] = data['text'].str.replace('وراي','خلفي')\n",
    "data['text'] = data['text'].str.replace('ورا','خلف')\n",
    "\n",
    "data"
   ]
  },
  {
   "cell_type": "code",
   "execution_count": 12,
   "metadata": {
    "colab": {
     "base_uri": "https://localhost:8080/"
    },
    "id": "jBrfeiL69ovx",
    "outputId": "c0e04532-a6ae-4803-dd32-391ce039083d"
   },
   "outputs": [
    {
     "name": "stdout",
     "output_type": "stream",
     "text": [
      "0                             هناك شخص واقف خلف سيارتى \n",
      "1                             هناك شخص متوقف خلف سيارتى\n",
      "2                               في احد موقف خلف سيارتي \n",
      "3                             فيه واحد موقف خلف سيارتي \n",
      "4                                   فيه واحد واقف خلفي \n",
      "                             ...                       \n",
      "607                                 ما هو مبلغ مخالفاتي\n",
      "608    وجدت مخالفات جديدة وأودّ الاستفسار عن وقت حدوثها\n",
      "609                                      هل علي مخالفات\n",
      "610                                        ماهي فواتيري\n",
      "611                          هل لي ان اعرف نوع المخالفة\n",
      "Name: text, Length: 612, dtype: object\n",
      "['علي', 'عن', 'صار', 'ابغى', 'ايش', 'بها', 'هي', 'هو', 'على', 'وش', 'ان', 'لي', 'هل', 'فيه', 'فيها', 'ماهي', 'هي', 'ما', 'في', 'هناك', 'واودّ', 'و', 'تم', 'قام', 'عليه', 'عليهم', 'لقيت', 'الظاهر']\n",
      "0                          شخص واقف خلف سيارتي\n",
      "1                         شخص متوقف خلف سيارتي\n",
      "2                          احد موقف خلف سيارتي\n",
      "3                         واحد موقف خلف سيارتي\n",
      "4                               واحد واقف خلفي\n",
      "                        ...                   \n",
      "607                              مبلغ مخالفاتي\n",
      "608    وجدت مخالفات جديده الاستفسار وقت حدوثها\n",
      "609                                    مخالفات\n",
      "610                                    فواتيري\n",
      "611                          اعرف نوع المخالفه\n",
      "Name: text, Length: 612, dtype: object\n"
     ]
    }
   ],
   "source": [
    "stopwords_list = stopwords.words('arabic')\n",
    "print(data['text'])\n",
    "arb_stopwords = ['علي','عن','صار','ابغى','ايش','بها','هي','هو','على','وش','ان','لي','هل','فيه','فيها','ماهي','هي','ما','في','هناك','واودّ','و','تم','قام','عليه','عليهم','لقيت','الظاهر']\n",
    "\n",
    "print(arb_stopwords)\n",
    "data['text']= data.apply(lambda row: normalize_alef_ar(row['text']), axis=1)\n",
    "data['text']=data.apply(lambda row: normalize_teh_marbuta_ar(row['text']), axis=1)\n",
    "data['text']= data.apply(lambda row: normalize_alef_maksura_ar(row['text']), axis=1)\n",
    "data['text'] = data['text'].apply(lambda x: ' '.join([word for word in x.split() if word not in (arb_stopwords)]))\n",
    "print(data['text'])\n"
   ]
  },
  {
   "cell_type": "code",
   "execution_count": 13,
   "metadata": {
    "id": "Z1BQFknr_Bdh"
   },
   "outputs": [],
   "source": [
    "# stemmer = FarasaStemmer()\n",
    "# stem_arr=[]\n",
    "# for index, row in data.iterrows(): \n",
    "#    stem_arr.append(stemmer.stem(row['text']))\n",
    "#    #stemmed = stemmer.stem(sample)\n"
   ]
  },
  {
   "cell_type": "code",
   "execution_count": 14,
   "metadata": {
    "id": "79a-0RvlC0un"
   },
   "outputs": [],
   "source": [
    "# for i in range(0, len(stem_arr)):\n",
    "    # stem_arr[i]=stem_arr[i].replace('سيارةه','سيارة')\n",
    "    # stem_arr[i]=stem_arr[i].replace('سيارةة','سيارة')\n",
    "    # stem_arr[i]=stem_arr[i].replace('سيار','سيارة')\n",
    "\n",
    "\n",
    "    # print(stem_arr[i])  \n",
    "\n",
    "# stem_arr_file = open(\"stem_arr_file.txt\", \"w\")\n",
    "# for i in range(0, len(stem_arr)): \n",
    "#   stem_arr_file.write(stem_arr[i] + \"\\n\")\n",
    "# stem_arr_file.close()"
   ]
  },
  {
   "cell_type": "code",
   "execution_count": 15,
   "metadata": {
    "colab": {
     "base_uri": "https://localhost:8080/"
    },
    "id": "uiJha_uKNavX",
    "outputId": "41093e26-2f9e-4e4a-ae4f-8ef9526b5e02"
   },
   "outputs": [
    {
     "name": "stdout",
     "output_type": "stream",
     "text": [
      "['شخص واقف خلف سيارة\\n', 'شخص متوقف خلف سيارة\\n', 'أحد موقف خلف سيارة\\n', 'واحد موقف خلف سيارة\\n', 'واحد واقف خلف\\n', 'أحد موقف خلف\\n', 'شخص مقفل سيارة\\n', 'وجد شخص مقفل\\n', 'شخص مقفل\\n', 'واحد مقفل\\n', 'أحد مقفل\\n', 'سيارة متوقف خلف\\n', 'سيارة واقف خلف\\n', 'وجد سيارة متوقف خلف لا أستطيع خروج\\n', 'سيارة متوقف خلف سيارة لا أستطيع خروج\\n', 'واحد موقف غلط\\n', 'شخص موقف غلط\\n', 'شخص متوقف شكل خاطئ\\n', 'أحد واقف غلط\\n', 'سيارة موقف غلط\\n', 'سيارة متوقف شكل خاطئ\\n', 'سيارة واقف شكل غير صحيح\\n', 'وجد شخص موقف شكل خاطئ\\n', 'شخص موقف شكل خاطئ\\n', 'سيارة مقفل خط\\n', 'سيارة متوقف طريق\\n', 'وجد سيارة موقف طريق\\n', 'شخص مقفل طريق\\n', 'أحد مقفل طريق\\n', 'سيارة مقفل طريق\\n', 'وجد سيارة مقفل طريق\\n', 'وجد شخص مقفل طريق\\n', 'سيارة محجوز لا أستطيع خروج\\n', 'أنا محجوز سبب سيارة مقفل\\n', 'سيارة محجوز سبب سيارة مقفل على\\n', 'أحد مقفل طريق\\n', 'سيارة مقفل\\n', 'مركب مقفل\\n', 'سيارة مقفل\\n', 'مركب مقفل\\n', 'شخص خدش سيارة\\n', 'وجد خدش سيارة\\n', 'سيارة محكوك\\n', 'أحد حك سيارة هرب\\n', 'حصل سيارة مصدوم\\n', 'سيارة مصوم والي صدم غير موجود\\n', 'أحد صدم سيارة هرب\\n', 'صدم سيارة طريق شخص مجهول\\n', 'حك سيارة طريق شخص مجهول\\n', 'كسر زجاج سيارة\\n', 'شخص كسر زجاج سيارة\\n', 'حصل طاقة مكسور\\n', 'حصل زجاج حق سيارة مكسور\\n', 'مراي سيارة انكسر\\n', 'مراي سيارة انكسر\\n', 'شخص كسر مراي سيارة\\n', 'واحد حك سيارة هرب\\n', 'واحد صدم سيارة هرب\\n', 'أحد صدم سيارة\\n', 'أحد حك سيارة\\n', 'شخص صدم سيارة هرب\\n', 'شخص حك سيارة هرب\\n', 'أحد كسر زجاج سيارة\\n', 'كسر زجاج سيارة طريق شخص مجهول\\n', 'شخص كسر سيارة هرب\\n', 'وجد سيارة مصدوم\\n', 'وجد سيارة محكوك\\n', 'سيارة انحكت\\n', 'سيارة انصدمت\\n', 'سيارة كسر\\n', 'وجد سيارة صدمة\\n', 'تهشيم زجاج سيارة\\n', 'شخص صدم سيارة هي متوقف\\n', 'شخص حك سيارة هي متوقف\\n', 'أحد حك سيارة هي واقف\\n', 'أحد صدم سيارة هي واقف\\n', 'أحد حك سيارة هي واقف\\n', 'أحد صدم سيارة هي واقف\\n', 'طفل محجوز سيارة\\n', 'طفل سيارة مغلق\\n', 'طفل مقفل سيارة\\n', 'وجد طفل سيارة مقفل\\n', 'طفل وحد سيارة\\n', 'وجد طفل محجوز سيارة\\n', 'طفل سيارة\\n', 'طفل بكى وحد سيارة\\n', 'طفل نايم سيارة مقفل\\n', 'طفل نائم سيارة طافي\\n', 'طفل نائم وحد سيارة\\n', 'طفل ناسيين اهل سيارة\\n', 'ناس قفلو طفل سيارة\\n', 'أشخاص ناسي طفل سيارة\\n', 'واحد ناس ولد نايم سيارة\\n', 'شخص مقفل سيارة اولاد\\n', 'شخص مقفل سيارة اطفال\\n', 'طفل اهل ناسيين سيارة\\n', 'طفل محتجز سيارة\\n', 'مركب أطفال محتجز\\n', 'مركب مغلق وبه أطفال محجوزين داخل\\n', 'طفل محتجز داخل سيارة مغلق\\n', 'وجد سيارة مغلق طفل نايم وحد\\n', 'أطفال محجوز سيارة\\n', 'تطفال سيارة مغلق\\n', 'أطفال مقفل سيارة\\n', 'وجد أطفال سيارة مقفل\\n', 'أطفال وحد سيارة\\n', 'وجد أطفال محجوزين سيارة\\n', 'أطفال سيارة\\n', 'أطفال بكى وحد سيارة\\n', 'أطفال نايمين سيارة مقفل\\n', 'أطفال نائم سيارة طافي\\n', 'أطفال نائم وحد سيارة\\n', 'أطفال ناسينهم أهل سيارة\\n', 'ناس قفلو أطفال سيارة\\n', 'أشخاص ناسي طفل سيارة\\n', 'واحد ناس اولاد نايمين سيارة\\n', 'شخص مقفل سيارة اولاد\\n', 'ناس اطفال سيارة\\n', 'أطفال اهل ناسيين سيارة\\n', 'أطفال محتجز سيارة\\n', 'مركب أطفال محتجز\\n', 'مركب مغلق وبه أطفال محجوزين داخل\\n', 'أطفال محتجز داخل سيارة مغلق\\n', 'وجد سيارة مغلق أطفال نايمن وحد\\n', 'مخالفة\\n', 'مخالفة\\n', 'مبلغ مخالفة\\n', 'وجد مخالفة جديد استفسار وقت حدوث\\n', 'مخالفة\\n', 'فاتورة\\n', 'أعرف نوع مخالف\\n', 'أعرف نوع مخالف\\n', 'كم مخالفة تفصيل\\n', 'ماسبب مخالف\\n', 'مخالف\\n', 'مخالفة مرصوده\\n', 'كم مخالف عند\\n', 'مخالفة\\n', 'مخالف\\n', 'أظهر مخالفة\\n', 'عدد مخالفة نوع\\n', 'كم مجموع مخالفة\\n', 'مخالفة\\n', 'مخالفة\\n', 'مخالف\\n', 'مخالفة\\n', 'مخالفة\\n', 'مخالفة\\n', 'مبلغ مخالفة\\n', 'وجد مخالفة جديد استفسار وقت حدوث\\n', 'مخالفة\\n', 'فاتورة\\n', 'أعرف نوع مخالف\\n', 'شخص واقف خلف سيارة\\n', 'شخص متوقف خلف سيارة\\n', 'أحد موقف خلف سيارة\\n', 'واحد موقف خلف سيارة\\n', 'واحد واقف خلف\\n', 'أحد موقف خلف\\n', 'شخص مقفل سيارة\\n', 'وجد شخص مقفل\\n', 'شخص مقفل\\n', 'واحد مقفل\\n', 'أحد مقفل\\n', 'سيارة متوقف خلف\\n', 'سيارة واقف خلف\\n', 'وجد سيارة متوقف خلف لا أستطيع خروج\\n', 'سيارة متوقف خلف سيارة لا أستطيع خروج\\n', 'واحد موقف غلط\\n', 'شخص موقف غلط\\n', 'شخص متوقف شكل خاطئ\\n', 'أحد واقف غلط\\n', 'سيارة موقف غلط\\n', 'سيارة متوقف شكل خاطئ\\n', 'سيارة واقف شكل غير صحيح\\n', 'وجد شخص موقف شكل خاطئ\\n', 'شخص موقف شكل خاطئ\\n', 'سيارة مقفل خط\\n', 'سيارة متوقف طريق\\n', 'وجد سيارة موقف طريق\\n', 'شخص مقفل طريق\\n', 'أحد مقفل طريق\\n', 'سيارة مقفل طريق\\n', 'وجد سيارة مقفل طريق\\n', 'وجد شخص مقفل طريق\\n', 'سيارة محجوز لا أستطيع خروج\\n', 'أنا محجوز سبب سيارة مقفل\\n', 'سيارة محجوز سبب سيارة مقفل على\\n', 'أحد مقفل طريق\\n', 'سيارة مقفل\\n', 'مركب مقفل\\n', 'سيارة مقفل\\n', 'مركب مقفل\\n', 'شخص خدش سيارة\\n', 'وجد خدش سيارة\\n', 'سيارة محكوك\\n', 'أحد حك سيارة هرب\\n', 'حصل سيارة مصدوم\\n', 'سيارة مصوم والي صدم غير موجود\\n', 'أحد صدم سيارة هرب\\n', 'صدم سيارة طريق شخص مجهول\\n', 'حك سيارة طريق شخص مجهول\\n', 'كسر زجاج سيارة\\n', 'شخص كسر زجاج سيارة\\n', 'حصل طاقة مكسور\\n', 'حصل زجاج حق سيارة مكسور\\n', 'مراي سيارة انكسر\\n', 'مراي سيارة انكسر\\n', 'شخص كسر مراي سيارة\\n', 'واحد حك سيارة هرب\\n', 'واحد صدم سيارة هرب\\n', 'أحد صدم سيارة\\n', 'أحد حك سيارة\\n', 'شخص صدم سيارة هرب\\n', 'شخص حك سيارة هرب\\n', 'أحد كسر زجاج سيارة\\n', 'كسر زجاج سيارة طريق شخص مجهول\\n', 'شخص كسر سيارة هرب\\n', 'وجد سيارة مصدوم\\n', 'وجد سيارة محكوك\\n', 'سيارة انحكت\\n', 'سيارة انصدمت\\n', 'سيارة كسر\\n', 'وجد سيارة صدمة\\n', 'تهشيم زجاج سيارة\\n', 'شخص صدم سيارة هي متوقف\\n', 'شخص حك سيارة هي متوقف\\n', 'أحد حك سيارة هي واقف\\n', 'أحد صدم سيارة هي واقف\\n', 'أحد حك سيارة هي واقف\\n', 'أحد صدم سيارة هي واقف\\n', 'طفل محجوز سيارة\\n', 'طفل سيارة مغلق\\n', 'طفل مقفل سيارة\\n', 'وجد طفل سيارة مقفل\\n', 'طفل وحد سيارة\\n', 'وجد طفل محجوز سيارة\\n', 'طفل سيارة\\n', 'طفل بكى وحد سيارة\\n', 'طفل نايم سيارة مقفل\\n', 'طفل نائم سيارة طافي\\n', 'طفل نائم وحد سيارة\\n', 'طفل ناسيين اهل سيارة\\n', 'ناس قفلو طفل سيارة\\n', 'أشخاص ناسي طفل سيارة\\n', 'واحد ناس ولد نايم سيارة\\n', 'شخص مقفل سيارة اولاد\\n', 'شخص مقفل سيارة اطفال\\n', 'طفل اهل ناسيين سيارة\\n', 'طفل محتجز سيارة\\n', 'مركب أطفال محتجز\\n', 'مركب مغلق وبه أطفال محجوزين داخل\\n', 'طفل محتجز داخل سيارة مغلق\\n', 'وجد سيارة مغلق طفل نايم وحد\\n', 'أطفال محجوز سيارة\\n', 'تطفال سيارة مغلق\\n', 'أطفال مقفل سيارة\\n', 'وجد أطفال سيارة مقفل\\n', 'أطفال وحد سيارة\\n', 'وجد أطفال محجوزين سيارة\\n', 'أطفال سيارة\\n', 'أطفال بكى وحد سيارة\\n', 'أطفال نايمين سيارة مقفل\\n', 'أطفال نائم سيارة طافي\\n', 'أطفال نائم وحد سيارة\\n', 'أطفال ناسينهم أهل سيارة\\n', 'ناس قفلو أطفال سيارة\\n', 'أشخاص ناسي طفل سيارة\\n', 'واحد ناس اولاد نايمين سيارة\\n', 'شخص مقفل سيارة اولاد\\n', 'ناس اطفال سيارة\\n', 'أطفال اهل ناسيين سيارة\\n', 'أطفال محتجز سيارة\\n', 'مركب أطفال محتجز\\n', 'مركب مغلق وبه أطفال محجوزين داخل\\n', 'أطفال محتجز داخل سيارة مغلق\\n', 'وجد سيارة مغلق أطفال نايمن وحد\\n', 'مخالفة\\n', 'مخالفة\\n', 'مبلغ مخالفة\\n', 'وجد مخالفة جديد استفسار وقت حدوث\\n', 'مخالفة\\n', 'فاتورة\\n', 'أعرف نوع مخالف\\n', 'أعرف نوع مخالف\\n', 'كم مخالفة تفصيل\\n', 'ماسبب مخالف\\n', 'مخالف\\n', 'مخالفة مرصوده\\n', 'كم مخالف عند\\n', 'مخالفة\\n', 'مخالف\\n', 'أظهر مخالفة\\n', 'عدد مخالفة نوع\\n', 'كم مجموع مخالفة\\n', 'مخالفة\\n', 'مخالفة\\n', 'مخالف\\n', 'مخالفة\\n', 'مخالفة\\n', 'مخالفة\\n', 'مبلغ مخالفة\\n', 'وجد مخالفة جديد استفسار وقت حدوث\\n', 'مخالفة\\n', 'فاتورة\\n', 'أعرف نوع مخالف\\n', 'شخص واقف خلف سيارة\\n', 'شخص متوقف خلف سيارة\\n', 'أحد موقف خلف سيارة\\n', 'واحد موقف خلف سيارة\\n', 'واحد واقف خلف\\n', 'أحد موقف خلف\\n', 'شخص مقفل سيارة\\n', 'وجد شخص مقفل\\n', 'شخص مقفل\\n', 'واحد مقفل\\n', 'أحد مقفل\\n', 'سيارة متوقف خلف\\n', 'سيارة واقف خلف\\n', 'وجد سيارة متوقف خلف لا أستطيع خروج\\n', 'سيارة متوقف خلف سيارة لا أستطيع خروج\\n', 'واحد موقف غلط\\n', 'شخص موقف غلط\\n', 'شخص متوقف شكل خاطئ\\n', 'أحد واقف غلط\\n', 'سيارة موقف غلط\\n', 'سيارة متوقف شكل خاطئ\\n', 'سيارة واقف شكل غير صحيح\\n', 'وجد شخص موقف شكل خاطئ\\n', 'شخص موقف شكل خاطئ\\n', 'سيارة مقفل خط\\n', 'سيارة متوقف طريق\\n', 'وجد سيارة موقف طريق\\n', 'شخص مقفل طريق\\n', 'أحد مقفل طريق\\n', 'سيارة مقفل طريق\\n', 'وجد سيارة مقفل طريق\\n', 'وجد شخص مقفل طريق\\n', 'سيارة محجوز لا أستطيع خروج\\n', 'أنا محجوز سبب سيارة مقفل\\n', 'سيارة محجوز سبب سيارة مقفل على\\n', 'أحد مقفل طريق\\n', 'سيارة مقفل\\n', 'مركب مقفل\\n', 'سيارة مقفل\\n', 'مركب مقفل\\n', 'شخص خدش سيارة\\n', 'وجد خدش سيارة\\n', 'سيارة محكوك\\n', 'أحد حك سيارة هرب\\n', 'حصل سيارة مصدوم\\n', 'سيارة مصوم والي صدم غير موجود\\n', 'أحد صدم سيارة هرب\\n', 'صدم سيارة طريق شخص مجهول\\n', 'حك سيارة طريق شخص مجهول\\n', 'كسر زجاج سيارة\\n', 'شخص كسر زجاج سيارة\\n', 'حصل طاقة مكسور\\n', 'حصل زجاج حق سيارة مكسور\\n', 'مراي سيارة انكسر\\n', 'مراي سيارة انكسر\\n', 'شخص كسر مراي سيارة\\n', 'واحد حك سيارة هرب\\n', 'واحد صدم سيارة هرب\\n', 'أحد صدم سيارة\\n', 'أحد حك سيارة\\n', 'شخص صدم سيارة هرب\\n', 'شخص حك سيارة هرب\\n', 'أحد كسر زجاج سيارة\\n', 'كسر زجاج سيارة طريق شخص مجهول\\n', 'شخص كسر سيارة هرب\\n', 'وجد سيارة مصدوم\\n', 'وجد سيارة محكوك\\n', 'سيارة انحكت\\n', 'سيارة انصدمت\\n', 'سيارة كسر\\n', 'وجد سيارة صدمة\\n', 'تهشيم زجاج سيارة\\n', 'شخص صدم سيارة هي متوقف\\n', 'شخص حك سيارة هي متوقف\\n', 'أحد حك سيارة هي واقف\\n', 'أحد صدم سيارة هي واقف\\n', 'أحد حك سيارة هي واقف\\n', 'أحد صدم سيارة هي واقف\\n', 'طفل محجوز سيارة\\n', 'طفل سيارة مغلق\\n', 'طفل مقفل سيارة\\n', 'وجد طفل سيارة مقفل\\n', 'طفل وحد سيارة\\n', 'وجد طفل محجوز سيارة\\n', 'طفل سيارة\\n', 'طفل بكى وحد سيارة\\n', 'طفل نايم سيارة مقفل\\n', 'طفل نائم سيارة طافي\\n', 'طفل نائم وحد سيارة\\n', 'طفل ناسيين اهل سيارة\\n', 'ناس قفلو طفل سيارة\\n', 'أشخاص ناسي طفل سيارة\\n', 'واحد ناس ولد نايم سيارة\\n', 'شخص مقفل سيارة اولاد\\n', 'شخص مقفل سيارة اطفال\\n', 'طفل اهل ناسيين سيارة\\n', 'طفل محتجز سيارة\\n', 'مركب أطفال محتجز\\n', 'مركب مغلق وبه أطفال محجوزين داخل\\n', 'طفل محتجز داخل سيارة مغلق\\n', 'وجد سيارة مغلق طفل نايم وحد\\n', 'أطفال محجوز سيارة\\n', 'تطفال سيارة مغلق\\n', 'أطفال مقفل سيارة\\n', 'وجد أطفال سيارة مقفل\\n', 'أطفال وحد سيارة\\n', 'وجد أطفال محجوزين سيارة\\n', 'أطفال سيارة\\n', 'أطفال بكى وحد سيارة\\n', 'أطفال نايمين سيارة مقفل\\n', 'أطفال نائم سيارة طافي\\n', 'أطفال نائم وحد سيارة\\n', 'أطفال ناسينهم أهل سيارة\\n', 'ناس قفلو أطفال سيارة\\n', 'أشخاص ناسي طفل سيارة\\n', 'واحد ناس اولاد نايمين سيارة\\n', 'شخص مقفل سيارة اولاد\\n', 'ناس اطفال سيارة\\n', 'أطفال اهل ناسيين سيارة\\n', 'أطفال محتجز سيارة\\n', 'مركب أطفال محتجز\\n', 'مركب مغلق وبه أطفال محجوزين داخل\\n', 'أطفال محتجز داخل سيارة مغلق\\n', 'وجد سيارة مغلق أطفال نايمن وحد\\n', 'مخالفة\\n', 'مخالفة\\n', 'مبلغ مخالفة\\n', 'وجد مخالفة جديد استفسار وقت حدوث\\n', 'مخالفة\\n', 'فاتورة\\n', 'أعرف نوع مخالف\\n', 'أعرف نوع مخالف\\n', 'كم مخالفة تفصيل\\n', 'ماسبب مخالف\\n', 'مخالف\\n', 'مخالفة مرصوده\\n', 'كم مخالف عند\\n', 'مخالفة\\n', 'مخالف\\n', 'أظهر مخالفة\\n', 'عدد مخالفة نوع\\n', 'كم مجموع مخالفة\\n', 'مخالفة\\n', 'مخالفة\\n', 'مخالف\\n', 'مخالفة\\n', 'مخالفة\\n', 'مخالفة\\n', 'مبلغ مخالفة\\n', 'وجد مخالفة جديد استفسار وقت حدوث\\n', 'مخالفة\\n', 'فاتورة\\n', 'أعرف نوع مخالف\\n', 'شخص واقف خلف سيارة\\n', 'شخص متوقف خلف سيارة\\n', 'أحد موقف خلف سيارة\\n', 'واحد موقف خلف سيارة\\n', 'واحد واقف خلف\\n', 'أحد موقف خلف\\n', 'شخص مقفل سيارة\\n', 'وجد شخص مقفل\\n', 'شخص مقفل\\n', 'واحد مقفل\\n', 'أحد مقفل\\n', 'سيارة متوقف خلف\\n', 'سيارة واقف خلف\\n', 'وجد سيارة متوقف خلف لا أستطيع خروج\\n', 'سيارة متوقف خلف سيارة لا أستطيع خروج\\n', 'واحد موقف غلط\\n', 'شخص موقف غلط\\n', 'شخص متوقف شكل خاطئ\\n', 'أحد واقف غلط\\n', 'سيارة موقف غلط\\n', 'سيارة متوقف شكل خاطئ\\n', 'سيارة واقف شكل غير صحيح\\n', 'وجد شخص موقف شكل خاطئ\\n', 'شخص موقف شكل خاطئ\\n', 'سيارة مقفل خط\\n', 'سيارة متوقف طريق\\n', 'وجد سيارة موقف طريق\\n', 'شخص مقفل طريق\\n', 'أحد مقفل طريق\\n', 'سيارة مقفل طريق\\n', 'وجد سيارة مقفل طريق\\n', 'وجد شخص مقفل طريق\\n', 'سيارة محجوز لا أستطيع خروج\\n', 'أنا محجوز سبب سيارة مقفل\\n', 'سيارة محجوز سبب سيارة مقفل على\\n', 'أحد مقفل طريق\\n', 'سيارة مقفل\\n', 'مركب مقفل\\n', 'سيارة مقفل\\n', 'مركب مقفل\\n', 'شخص خدش سيارة\\n', 'وجد خدش سيارة\\n', 'سيارة محكوك\\n', 'أحد حك سيارة هرب\\n', 'حصل سيارة مصدوم\\n', 'سيارة مصوم والي صدم غير موجود\\n', 'أحد صدم سيارة هرب\\n', 'صدم سيارة طريق شخص مجهول\\n', 'حك سيارة طريق شخص مجهول\\n', 'كسر زجاج سيارة\\n', 'شخص كسر زجاج سيارة\\n', 'حصل طاقة مكسور\\n', 'حصل زجاج حق سيارة مكسور\\n', 'مراي سيارة انكسر\\n', 'مراي سيارة انكسر\\n', 'شخص كسر مراي سيارة\\n', 'واحد حك سيارة هرب\\n', 'واحد صدم سيارة هرب\\n', 'أحد صدم سيارة\\n', 'أحد حك سيارة\\n', 'شخص صدم سيارة هرب\\n', 'شخص حك سيارة هرب\\n', 'أحد كسر زجاج سيارة\\n', 'كسر زجاج سيارة طريق شخص مجهول\\n', 'شخص كسر سيارة هرب\\n', 'وجد سيارة مصدوم\\n', 'وجد سيارة محكوك\\n', 'سيارة انحكت\\n', 'سيارة انصدمت\\n', 'سيارة كسر\\n', 'وجد سيارة صدمة\\n', 'تهشيم زجاج سيارة\\n', 'شخص صدم سيارة هي متوقف\\n', 'شخص حك سيارة هي متوقف\\n', 'أحد حك سيارة هي واقف\\n', 'أحد صدم سيارة هي واقف\\n', 'أحد حك سيارة هي واقف\\n', 'أحد صدم سيارة هي واقف\\n', 'طفل محجوز سيارة\\n', 'طفل سيارة مغلق\\n', 'طفل مقفل سيارة\\n', 'وجد طفل سيارة مقفل\\n', 'طفل وحد سيارة\\n', 'وجد طفل محجوز سيارة\\n', 'طفل سيارة\\n', 'طفل بكى وحد سيارة\\n', 'طفل نايم سيارة مقفل\\n', 'طفل نائم سيارة طافي\\n', 'طفل نائم وحد سيارة\\n', 'طفل ناسيين اهل سيارة\\n', 'ناس قفلو طفل سيارة\\n', 'أشخاص ناسي طفل سيارة\\n', 'واحد ناس ولد نايم سيارة\\n', 'شخص مقفل سيارة اولاد\\n', 'شخص مقفل سيارة اطفال\\n', 'طفل اهل ناسيين سيارة\\n', 'طفل محتجز سيارة\\n', 'مركب أطفال محتجز\\n', 'مركب مغلق وبه أطفال محجوزين داخل\\n', 'طفل محتجز داخل سيارة مغلق\\n', 'وجد سيارة مغلق طفل نايم وحد\\n', 'أطفال محجوز سيارة\\n', 'تطفال سيارة مغلق\\n', 'أطفال مقفل سيارة\\n', 'وجد أطفال سيارة مقفل\\n', 'أطفال وحد سيارة\\n', 'وجد أطفال محجوزين سيارة\\n', 'أطفال سيارة\\n', 'أطفال بكى وحد سيارة\\n', 'أطفال نايمين سيارة مقفل\\n', 'أطفال نائم سيارة طافي\\n', 'أطفال نائم وحد سيارة\\n', 'أطفال ناسينهم أهل سيارة\\n', 'ناس قفلو أطفال سيارة\\n', 'أشخاص ناسي طفل سيارة\\n', 'واحد ناس اولاد نايمين سيارة\\n', 'شخص مقفل سيارة اولاد\\n', 'ناس اطفال سيارة\\n', 'أطفال اهل ناسيين سيارة\\n', 'أطفال محتجز سيارة\\n', 'مركب أطفال محتجز\\n', 'مركب مغلق وبه أطفال محجوزين داخل\\n', 'أطفال محتجز داخل سيارة مغلق\\n', 'وجد سيارة مغلق أطفال نايمن وحد\\n', 'مخالفة\\n', 'مخالفة\\n', 'مبلغ مخالفة\\n', 'وجد مخالفة جديد استفسار وقت حدوث\\n', 'مخالفة\\n', 'فاتورة\\n', 'أعرف نوع مخالف\\n', 'أعرف نوع مخالف\\n', 'كم مخالفة تفصيل\\n', 'ماسبب مخالف\\n', 'مخالف\\n', 'مخالفة مرصوده\\n', 'كم مخالف عند\\n', 'مخالفة\\n', 'مخالف\\n', 'أظهر مخالفة\\n', 'عدد مخالفة نوع\\n', 'كم مجموع مخالفة\\n', 'مخالفة\\n', 'مخالفة\\n', 'مخالف\\n', 'مخالفة\\n', 'مخالفة\\n', 'مخالفة\\n', 'مبلغ مخالفة\\n', 'وجد مخالفة جديد استفسار وقت حدوث\\n', 'مخالفة\\n', 'فاتورة\\n', 'أعرف نوع مخالف\\n']\n",
      "['شخص واقف خلف سيارة', 'شخص متوقف خلف سيارة', 'أحد موقف خلف سيارة', 'واحد موقف خلف سيارة', 'واحد واقف خلف', 'أحد موقف خلف', 'شخص مقفل سيارة', 'وجد شخص مقفل', 'شخص مقفل', 'واحد مقفل', 'أحد مقفل', 'سيارة متوقف خلف', 'سيارة واقف خلف', 'وجد سيارة متوقف خلف لا أستطيع خروج', 'سيارة متوقف خلف سيارة لا أستطيع خروج', 'واحد موقف غلط', 'شخص موقف غلط', 'شخص متوقف شكل خاطئ', 'أحد واقف غلط', 'سيارة موقف غلط', 'سيارة متوقف شكل خاطئ', 'سيارة واقف شكل غير صحيح', 'وجد شخص موقف شكل خاطئ', 'شخص موقف شكل خاطئ', 'سيارة مقفل خط', 'سيارة متوقف طريق', 'وجد سيارة موقف طريق', 'شخص مقفل طريق', 'أحد مقفل طريق', 'سيارة مقفل طريق', 'وجد سيارة مقفل طريق', 'وجد شخص مقفل طريق', 'سيارة محجوز لا أستطيع خروج', 'أنا محجوز سبب سيارة مقفل', 'سيارة محجوز سبب سيارة مقفل على', 'أحد مقفل طريق', 'سيارة مقفل', 'مركب مقفل', 'سيارة مقفل', 'مركب مقفل', 'شخص خدش سيارة', 'وجد خدش سيارة', 'سيارة محكوك', 'أحد حك سيارة هرب', 'حصل سيارة مصدوم', 'سيارة مصوم والي صدم غير موجود', 'أحد صدم سيارة هرب', 'صدم سيارة طريق شخص مجهول', 'حك سيارة طريق شخص مجهول', 'كسر زجاج سيارة', 'شخص كسر زجاج سيارة', 'حصل طاقة مكسور', 'حصل زجاج حق سيارة مكسور', 'مراي سيارة انكسر', 'مراي سيارة انكسر', 'شخص كسر مراي سيارة', 'واحد حك سيارة هرب', 'واحد صدم سيارة هرب', 'أحد صدم سيارة', 'أحد حك سيارة', 'شخص صدم سيارة هرب', 'شخص حك سيارة هرب', 'أحد كسر زجاج سيارة', 'كسر زجاج سيارة طريق شخص مجهول', 'شخص كسر سيارة هرب', 'وجد سيارة مصدوم', 'وجد سيارة محكوك', 'سيارة انحكت', 'سيارة انصدمت', 'سيارة كسر', 'وجد سيارة صدمة', 'تهشيم زجاج سيارة', 'شخص صدم سيارة هي متوقف', 'شخص حك سيارة هي متوقف', 'أحد حك سيارة هي واقف', 'أحد صدم سيارة هي واقف', 'أحد حك سيارة هي واقف', 'أحد صدم سيارة هي واقف', 'طفل محجوز سيارة', 'طفل سيارة مغلق', 'طفل مقفل سيارة', 'وجد طفل سيارة مقفل', 'طفل وحد سيارة', 'وجد طفل محجوز سيارة', 'طفل سيارة', 'طفل بكى وحد سيارة', 'طفل نايم سيارة مقفل', 'طفل نائم سيارة طافي', 'طفل نائم وحد سيارة', 'طفل ناسيين اهل سيارة', 'ناس قفلو طفل سيارة', 'أشخاص ناسي طفل سيارة', 'واحد ناس ولد نايم سيارة', 'شخص مقفل سيارة اولاد', 'شخص مقفل سيارة اطفال', 'طفل اهل ناسيين سيارة', 'طفل محتجز سيارة', 'مركب أطفال محتجز', 'مركب مغلق وبه أطفال محجوزين داخل', 'طفل محتجز داخل سيارة مغلق', 'وجد سيارة مغلق طفل نايم وحد', 'أطفال محجوز سيارة', 'تطفال سيارة مغلق', 'أطفال مقفل سيارة', 'وجد أطفال سيارة مقفل', 'أطفال وحد سيارة', 'وجد أطفال محجوزين سيارة', 'أطفال سيارة', 'أطفال بكى وحد سيارة', 'أطفال نايمين سيارة مقفل', 'أطفال نائم سيارة طافي', 'أطفال نائم وحد سيارة', 'أطفال ناسينهم أهل سيارة', 'ناس قفلو أطفال سيارة', 'أشخاص ناسي طفل سيارة', 'واحد ناس اولاد نايمين سيارة', 'شخص مقفل سيارة اولاد', 'ناس اطفال سيارة', 'أطفال اهل ناسيين سيارة', 'أطفال محتجز سيارة', 'مركب أطفال محتجز', 'مركب مغلق وبه أطفال محجوزين داخل', 'أطفال محتجز داخل سيارة مغلق', 'وجد سيارة مغلق أطفال نايمن وحد', 'مخالفة', 'مخالفة', 'مبلغ مخالفة', 'وجد مخالفة جديد استفسار وقت حدوث', 'مخالفة', 'فاتورة', 'أعرف نوع مخالف', 'أعرف نوع مخالف', 'كم مخالفة تفصيل', 'ماسبب مخالف', 'مخالف', 'مخالفة مرصوده', 'كم مخالف عند', 'مخالفة', 'مخالف', 'أظهر مخالفة', 'عدد مخالفة نوع', 'كم مجموع مخالفة', 'مخالفة', 'مخالفة', 'مخالف', 'مخالفة', 'مخالفة', 'مخالفة', 'مبلغ مخالفة', 'وجد مخالفة جديد استفسار وقت حدوث', 'مخالفة', 'فاتورة', 'أعرف نوع مخالف', 'شخص واقف خلف سيارة', 'شخص متوقف خلف سيارة', 'أحد موقف خلف سيارة', 'واحد موقف خلف سيارة', 'واحد واقف خلف', 'أحد موقف خلف', 'شخص مقفل سيارة', 'وجد شخص مقفل', 'شخص مقفل', 'واحد مقفل', 'أحد مقفل', 'سيارة متوقف خلف', 'سيارة واقف خلف', 'وجد سيارة متوقف خلف لا أستطيع خروج', 'سيارة متوقف خلف سيارة لا أستطيع خروج', 'واحد موقف غلط', 'شخص موقف غلط', 'شخص متوقف شكل خاطئ', 'أحد واقف غلط', 'سيارة موقف غلط', 'سيارة متوقف شكل خاطئ', 'سيارة واقف شكل غير صحيح', 'وجد شخص موقف شكل خاطئ', 'شخص موقف شكل خاطئ', 'سيارة مقفل خط', 'سيارة متوقف طريق', 'وجد سيارة موقف طريق', 'شخص مقفل طريق', 'أحد مقفل طريق', 'سيارة مقفل طريق', 'وجد سيارة مقفل طريق', 'وجد شخص مقفل طريق', 'سيارة محجوز لا أستطيع خروج', 'أنا محجوز سبب سيارة مقفل', 'سيارة محجوز سبب سيارة مقفل على', 'أحد مقفل طريق', 'سيارة مقفل', 'مركب مقفل', 'سيارة مقفل', 'مركب مقفل', 'شخص خدش سيارة', 'وجد خدش سيارة', 'سيارة محكوك', 'أحد حك سيارة هرب', 'حصل سيارة مصدوم', 'سيارة مصوم والي صدم غير موجود', 'أحد صدم سيارة هرب', 'صدم سيارة طريق شخص مجهول', 'حك سيارة طريق شخص مجهول', 'كسر زجاج سيارة', 'شخص كسر زجاج سيارة', 'حصل طاقة مكسور', 'حصل زجاج حق سيارة مكسور', 'مراي سيارة انكسر', 'مراي سيارة انكسر', 'شخص كسر مراي سيارة', 'واحد حك سيارة هرب', 'واحد صدم سيارة هرب', 'أحد صدم سيارة', 'أحد حك سيارة', 'شخص صدم سيارة هرب', 'شخص حك سيارة هرب', 'أحد كسر زجاج سيارة', 'كسر زجاج سيارة طريق شخص مجهول', 'شخص كسر سيارة هرب', 'وجد سيارة مصدوم', 'وجد سيارة محكوك', 'سيارة انحكت', 'سيارة انصدمت', 'سيارة كسر', 'وجد سيارة صدمة', 'تهشيم زجاج سيارة', 'شخص صدم سيارة هي متوقف', 'شخص حك سيارة هي متوقف', 'أحد حك سيارة هي واقف', 'أحد صدم سيارة هي واقف', 'أحد حك سيارة هي واقف', 'أحد صدم سيارة هي واقف', 'طفل محجوز سيارة', 'طفل سيارة مغلق', 'طفل مقفل سيارة', 'وجد طفل سيارة مقفل', 'طفل وحد سيارة', 'وجد طفل محجوز سيارة', 'طفل سيارة', 'طفل بكى وحد سيارة', 'طفل نايم سيارة مقفل', 'طفل نائم سيارة طافي', 'طفل نائم وحد سيارة', 'طفل ناسيين اهل سيارة', 'ناس قفلو طفل سيارة', 'أشخاص ناسي طفل سيارة', 'واحد ناس ولد نايم سيارة', 'شخص مقفل سيارة اولاد', 'شخص مقفل سيارة اطفال', 'طفل اهل ناسيين سيارة', 'طفل محتجز سيارة', 'مركب أطفال محتجز', 'مركب مغلق وبه أطفال محجوزين داخل', 'طفل محتجز داخل سيارة مغلق', 'وجد سيارة مغلق طفل نايم وحد', 'أطفال محجوز سيارة', 'تطفال سيارة مغلق', 'أطفال مقفل سيارة', 'وجد أطفال سيارة مقفل', 'أطفال وحد سيارة', 'وجد أطفال محجوزين سيارة', 'أطفال سيارة', 'أطفال بكى وحد سيارة', 'أطفال نايمين سيارة مقفل', 'أطفال نائم سيارة طافي', 'أطفال نائم وحد سيارة', 'أطفال ناسينهم أهل سيارة', 'ناس قفلو أطفال سيارة', 'أشخاص ناسي طفل سيارة', 'واحد ناس اولاد نايمين سيارة', 'شخص مقفل سيارة اولاد', 'ناس اطفال سيارة', 'أطفال اهل ناسيين سيارة', 'أطفال محتجز سيارة', 'مركب أطفال محتجز', 'مركب مغلق وبه أطفال محجوزين داخل', 'أطفال محتجز داخل سيارة مغلق', 'وجد سيارة مغلق أطفال نايمن وحد', 'مخالفة', 'مخالفة', 'مبلغ مخالفة', 'وجد مخالفة جديد استفسار وقت حدوث', 'مخالفة', 'فاتورة', 'أعرف نوع مخالف', 'أعرف نوع مخالف', 'كم مخالفة تفصيل', 'ماسبب مخالف', 'مخالف', 'مخالفة مرصوده', 'كم مخالف عند', 'مخالفة', 'مخالف', 'أظهر مخالفة', 'عدد مخالفة نوع', 'كم مجموع مخالفة', 'مخالفة', 'مخالفة', 'مخالف', 'مخالفة', 'مخالفة', 'مخالفة', 'مبلغ مخالفة', 'وجد مخالفة جديد استفسار وقت حدوث', 'مخالفة', 'فاتورة', 'أعرف نوع مخالف', 'شخص واقف خلف سيارة', 'شخص متوقف خلف سيارة', 'أحد موقف خلف سيارة', 'واحد موقف خلف سيارة', 'واحد واقف خلف', 'أحد موقف خلف', 'شخص مقفل سيارة', 'وجد شخص مقفل', 'شخص مقفل', 'واحد مقفل', 'أحد مقفل', 'سيارة متوقف خلف', 'سيارة واقف خلف', 'وجد سيارة متوقف خلف لا أستطيع خروج', 'سيارة متوقف خلف سيارة لا أستطيع خروج', 'واحد موقف غلط', 'شخص موقف غلط', 'شخص متوقف شكل خاطئ', 'أحد واقف غلط', 'سيارة موقف غلط', 'سيارة متوقف شكل خاطئ', 'سيارة واقف شكل غير صحيح', 'وجد شخص موقف شكل خاطئ', 'شخص موقف شكل خاطئ', 'سيارة مقفل خط', 'سيارة متوقف طريق', 'وجد سيارة موقف طريق', 'شخص مقفل طريق', 'أحد مقفل طريق', 'سيارة مقفل طريق', 'وجد سيارة مقفل طريق', 'وجد شخص مقفل طريق', 'سيارة محجوز لا أستطيع خروج', 'أنا محجوز سبب سيارة مقفل', 'سيارة محجوز سبب سيارة مقفل على', 'أحد مقفل طريق', 'سيارة مقفل', 'مركب مقفل', 'سيارة مقفل', 'مركب مقفل', 'شخص خدش سيارة', 'وجد خدش سيارة', 'سيارة محكوك', 'أحد حك سيارة هرب', 'حصل سيارة مصدوم', 'سيارة مصوم والي صدم غير موجود', 'أحد صدم سيارة هرب', 'صدم سيارة طريق شخص مجهول', 'حك سيارة طريق شخص مجهول', 'كسر زجاج سيارة', 'شخص كسر زجاج سيارة', 'حصل طاقة مكسور', 'حصل زجاج حق سيارة مكسور', 'مراي سيارة انكسر', 'مراي سيارة انكسر', 'شخص كسر مراي سيارة', 'واحد حك سيارة هرب', 'واحد صدم سيارة هرب', 'أحد صدم سيارة', 'أحد حك سيارة', 'شخص صدم سيارة هرب', 'شخص حك سيارة هرب', 'أحد كسر زجاج سيارة', 'كسر زجاج سيارة طريق شخص مجهول', 'شخص كسر سيارة هرب', 'وجد سيارة مصدوم', 'وجد سيارة محكوك', 'سيارة انحكت', 'سيارة انصدمت', 'سيارة كسر', 'وجد سيارة صدمة', 'تهشيم زجاج سيارة', 'شخص صدم سيارة هي متوقف', 'شخص حك سيارة هي متوقف', 'أحد حك سيارة هي واقف', 'أحد صدم سيارة هي واقف', 'أحد حك سيارة هي واقف', 'أحد صدم سيارة هي واقف', 'طفل محجوز سيارة', 'طفل سيارة مغلق', 'طفل مقفل سيارة', 'وجد طفل سيارة مقفل', 'طفل وحد سيارة', 'وجد طفل محجوز سيارة', 'طفل سيارة', 'طفل بكى وحد سيارة', 'طفل نايم سيارة مقفل', 'طفل نائم سيارة طافي', 'طفل نائم وحد سيارة', 'طفل ناسيين اهل سيارة', 'ناس قفلو طفل سيارة', 'أشخاص ناسي طفل سيارة', 'واحد ناس ولد نايم سيارة', 'شخص مقفل سيارة اولاد', 'شخص مقفل سيارة اطفال', 'طفل اهل ناسيين سيارة', 'طفل محتجز سيارة', 'مركب أطفال محتجز', 'مركب مغلق وبه أطفال محجوزين داخل', 'طفل محتجز داخل سيارة مغلق', 'وجد سيارة مغلق طفل نايم وحد', 'أطفال محجوز سيارة', 'تطفال سيارة مغلق', 'أطفال مقفل سيارة', 'وجد أطفال سيارة مقفل', 'أطفال وحد سيارة', 'وجد أطفال محجوزين سيارة', 'أطفال سيارة', 'أطفال بكى وحد سيارة', 'أطفال نايمين سيارة مقفل', 'أطفال نائم سيارة طافي', 'أطفال نائم وحد سيارة', 'أطفال ناسينهم أهل سيارة', 'ناس قفلو أطفال سيارة', 'أشخاص ناسي طفل سيارة', 'واحد ناس اولاد نايمين سيارة', 'شخص مقفل سيارة اولاد', 'ناس اطفال سيارة', 'أطفال اهل ناسيين سيارة', 'أطفال محتجز سيارة', 'مركب أطفال محتجز', 'مركب مغلق وبه أطفال محجوزين داخل', 'أطفال محتجز داخل سيارة مغلق', 'وجد سيارة مغلق أطفال نايمن وحد', 'مخالفة', 'مخالفة', 'مبلغ مخالفة', 'وجد مخالفة جديد استفسار وقت حدوث', 'مخالفة', 'فاتورة', 'أعرف نوع مخالف', 'أعرف نوع مخالف', 'كم مخالفة تفصيل', 'ماسبب مخالف', 'مخالف', 'مخالفة مرصوده', 'كم مخالف عند', 'مخالفة', 'مخالف', 'أظهر مخالفة', 'عدد مخالفة نوع', 'كم مجموع مخالفة', 'مخالفة', 'مخالفة', 'مخالف', 'مخالفة', 'مخالفة', 'مخالفة', 'مبلغ مخالفة', 'وجد مخالفة جديد استفسار وقت حدوث', 'مخالفة', 'فاتورة', 'أعرف نوع مخالف', 'شخص واقف خلف سيارة', 'شخص متوقف خلف سيارة', 'أحد موقف خلف سيارة', 'واحد موقف خلف سيارة', 'واحد واقف خلف', 'أحد موقف خلف', 'شخص مقفل سيارة', 'وجد شخص مقفل', 'شخص مقفل', 'واحد مقفل', 'أحد مقفل', 'سيارة متوقف خلف', 'سيارة واقف خلف', 'وجد سيارة متوقف خلف لا أستطيع خروج', 'سيارة متوقف خلف سيارة لا أستطيع خروج', 'واحد موقف غلط', 'شخص موقف غلط', 'شخص متوقف شكل خاطئ', 'أحد واقف غلط', 'سيارة موقف غلط', 'سيارة متوقف شكل خاطئ', 'سيارة واقف شكل غير صحيح', 'وجد شخص موقف شكل خاطئ', 'شخص موقف شكل خاطئ', 'سيارة مقفل خط', 'سيارة متوقف طريق', 'وجد سيارة موقف طريق', 'شخص مقفل طريق', 'أحد مقفل طريق', 'سيارة مقفل طريق', 'وجد سيارة مقفل طريق', 'وجد شخص مقفل طريق', 'سيارة محجوز لا أستطيع خروج', 'أنا محجوز سبب سيارة مقفل', 'سيارة محجوز سبب سيارة مقفل على', 'أحد مقفل طريق', 'سيارة مقفل', 'مركب مقفل', 'سيارة مقفل', 'مركب مقفل', 'شخص خدش سيارة', 'وجد خدش سيارة', 'سيارة محكوك', 'أحد حك سيارة هرب', 'حصل سيارة مصدوم', 'سيارة مصوم والي صدم غير موجود', 'أحد صدم سيارة هرب', 'صدم سيارة طريق شخص مجهول', 'حك سيارة طريق شخص مجهول', 'كسر زجاج سيارة', 'شخص كسر زجاج سيارة', 'حصل طاقة مكسور', 'حصل زجاج حق سيارة مكسور', 'مراي سيارة انكسر', 'مراي سيارة انكسر', 'شخص كسر مراي سيارة', 'واحد حك سيارة هرب', 'واحد صدم سيارة هرب', 'أحد صدم سيارة', 'أحد حك سيارة', 'شخص صدم سيارة هرب', 'شخص حك سيارة هرب', 'أحد كسر زجاج سيارة', 'كسر زجاج سيارة طريق شخص مجهول', 'شخص كسر سيارة هرب', 'وجد سيارة مصدوم', 'وجد سيارة محكوك', 'سيارة انحكت', 'سيارة انصدمت', 'سيارة كسر', 'وجد سيارة صدمة', 'تهشيم زجاج سيارة', 'شخص صدم سيارة هي متوقف', 'شخص حك سيارة هي متوقف', 'أحد حك سيارة هي واقف', 'أحد صدم سيارة هي واقف', 'أحد حك سيارة هي واقف', 'أحد صدم سيارة هي واقف', 'طفل محجوز سيارة', 'طفل سيارة مغلق', 'طفل مقفل سيارة', 'وجد طفل سيارة مقفل', 'طفل وحد سيارة', 'وجد طفل محجوز سيارة', 'طفل سيارة', 'طفل بكى وحد سيارة', 'طفل نايم سيارة مقفل', 'طفل نائم سيارة طافي', 'طفل نائم وحد سيارة', 'طفل ناسيين اهل سيارة', 'ناس قفلو طفل سيارة', 'أشخاص ناسي طفل سيارة', 'واحد ناس ولد نايم سيارة', 'شخص مقفل سيارة اولاد', 'شخص مقفل سيارة اطفال', 'طفل اهل ناسيين سيارة', 'طفل محتجز سيارة', 'مركب أطفال محتجز', 'مركب مغلق وبه أطفال محجوزين داخل', 'طفل محتجز داخل سيارة مغلق', 'وجد سيارة مغلق طفل نايم وحد', 'أطفال محجوز سيارة', 'تطفال سيارة مغلق', 'أطفال مقفل سيارة', 'وجد أطفال سيارة مقفل', 'أطفال وحد سيارة', 'وجد أطفال محجوزين سيارة', 'أطفال سيارة', 'أطفال بكى وحد سيارة', 'أطفال نايمين سيارة مقفل', 'أطفال نائم سيارة طافي', 'أطفال نائم وحد سيارة', 'أطفال ناسينهم أهل سيارة', 'ناس قفلو أطفال سيارة', 'أشخاص ناسي طفل سيارة', 'واحد ناس اولاد نايمين سيارة', 'شخص مقفل سيارة اولاد', 'ناس اطفال سيارة', 'أطفال اهل ناسيين سيارة', 'أطفال محتجز سيارة', 'مركب أطفال محتجز', 'مركب مغلق وبه أطفال محجوزين داخل', 'أطفال محتجز داخل سيارة مغلق', 'وجد سيارة مغلق أطفال نايمن وحد', 'مخالفة', 'مخالفة', 'مبلغ مخالفة', 'وجد مخالفة جديد استفسار وقت حدوث', 'مخالفة', 'فاتورة', 'أعرف نوع مخالف', 'أعرف نوع مخالف', 'كم مخالفة تفصيل', 'ماسبب مخالف', 'مخالف', 'مخالفة مرصوده', 'كم مخالف عند', 'مخالفة', 'مخالف', 'أظهر مخالفة', 'عدد مخالفة نوع', 'كم مجموع مخالفة', 'مخالفة', 'مخالفة', 'مخالف', 'مخالفة', 'مخالفة', 'مخالفة', 'مبلغ مخالفة', 'وجد مخالفة جديد استفسار وقت حدوث', 'مخالفة', 'فاتورة', 'أعرف نوع مخالف']\n"
     ]
    }
   ],
   "source": [
    "stem_arr=[]\n",
    "f = open(\"/content/drive/MyDrive/NLP/stem_arr_file.txt\", \"r\")\n",
    "stem_arr = f.readlines()\n",
    "print(stem_arr)\n",
    "\n",
    "for i in range(0, len(stem_arr)): \n",
    "   stem_arr[i]=stem_arr[i].strip()\n",
    "print(stem_arr)\n",
    "\n",
    "f.close()\n",
    "\n"
   ]
  },
  {
   "cell_type": "code",
   "execution_count": null,
   "metadata": {
    "id": "YnHtmUxbSu1j"
   },
   "outputs": [],
   "source": [
    "# tokenizer = AutoTokenizer.from_pretrained(\"CAMeL-Lab/bert-base-arabic-camelbert-mix-pos-glf\")\n",
    "# model = AutoModelForTokenClassification.from_pretrained(\"CAMeL-Lab/bert-base-arabic-camelbert-mix-pos-glf\")\n",
    "# pos = pipeline('token-classification', model='CAMeL-Lab/bert-base-arabic-camelbert-mix-pos-glf')\n"
   ]
  },
  {
   "cell_type": "code",
   "execution_count": null,
   "metadata": {
    "id": "1SqeeQvcfm6C"
   },
   "outputs": [],
   "source": [
    "# pos_arr=[]\n",
    "# for i  in range(0, len(stem_arr)): \n",
    "#    pos_arr.append(pos(stem_arr[i]))\n"
   ]
  },
  {
   "cell_type": "code",
   "execution_count": null,
   "metadata": {
    "id": "NuTxKOYMa3Me"
   },
   "outputs": [],
   "source": [
    "\n",
    "# for i  in range(0, len(pos_arr)): \n",
    "#   print(pos_arr[i]) "
   ]
  },
  {
   "cell_type": "code",
   "execution_count": 30,
   "metadata": {
    "colab": {
     "base_uri": "https://localhost:8080/",
     "height": 667
    },
    "id": "0tWlFWNVD_-o",
    "outputId": "f96b6463-aa1d-4da8-a1eb-cfc9e39be05b"
   },
   "outputs": [
    {
     "name": "stdout",
     "output_type": "stream",
     "text": [
      "                           text_token\n",
      "0                  شخص واقف خلف سيارة\n",
      "1                 شخص متوقف خلف سيارة\n",
      "2                  أحد موقف خلف سيارة\n",
      "3                 واحد موقف خلف سيارة\n",
      "4                       واحد واقف خلف\n",
      "..                                ...\n",
      "607                       مبلغ مخالفة\n",
      "608  وجد مخالفة جديد استفسار وقت حدوث\n",
      "609                            مخالفة\n",
      "610                            فاتورة\n",
      "611                    أعرف نوع مخالف\n",
      "\n",
      "[612 rows x 1 columns]\n"
     ]
    },
    {
     "data": {
      "text/html": [
       "\n",
       "  <div id=\"df-2e31be5b-49a4-4f8b-9cf2-d41daf976dcd\">\n",
       "    <div class=\"colab-df-container\">\n",
       "      <div>\n",
       "<style scoped>\n",
       "    .dataframe tbody tr th:only-of-type {\n",
       "        vertical-align: middle;\n",
       "    }\n",
       "\n",
       "    .dataframe tbody tr th {\n",
       "        vertical-align: top;\n",
       "    }\n",
       "\n",
       "    .dataframe thead th {\n",
       "        text-align: right;\n",
       "    }\n",
       "</style>\n",
       "<table border=\"1\" class=\"dataframe\">\n",
       "  <thead>\n",
       "    <tr style=\"text-align: right;\">\n",
       "      <th></th>\n",
       "      <th>text</th>\n",
       "      <th>text_token</th>\n",
       "    </tr>\n",
       "  </thead>\n",
       "  <tbody>\n",
       "    <tr>\n",
       "      <th>0</th>\n",
       "      <td>شخص واقف خلف سيارتي</td>\n",
       "      <td>شخص واقف خلف سيارة</td>\n",
       "    </tr>\n",
       "    <tr>\n",
       "      <th>1</th>\n",
       "      <td>شخص متوقف خلف سيارتي</td>\n",
       "      <td>شخص متوقف خلف سيارة</td>\n",
       "    </tr>\n",
       "    <tr>\n",
       "      <th>2</th>\n",
       "      <td>احد موقف خلف سيارتي</td>\n",
       "      <td>أحد موقف خلف سيارة</td>\n",
       "    </tr>\n",
       "    <tr>\n",
       "      <th>3</th>\n",
       "      <td>واحد موقف خلف سيارتي</td>\n",
       "      <td>واحد موقف خلف سيارة</td>\n",
       "    </tr>\n",
       "    <tr>\n",
       "      <th>4</th>\n",
       "      <td>واحد واقف خلفي</td>\n",
       "      <td>واحد واقف خلف</td>\n",
       "    </tr>\n",
       "    <tr>\n",
       "      <th>...</th>\n",
       "      <td>...</td>\n",
       "      <td>...</td>\n",
       "    </tr>\n",
       "    <tr>\n",
       "      <th>607</th>\n",
       "      <td>مبلغ مخالفاتي</td>\n",
       "      <td>مبلغ مخالفة</td>\n",
       "    </tr>\n",
       "    <tr>\n",
       "      <th>608</th>\n",
       "      <td>وجدت مخالفات جديده الاستفسار وقت حدوثها</td>\n",
       "      <td>وجد مخالفة جديد استفسار وقت حدوث</td>\n",
       "    </tr>\n",
       "    <tr>\n",
       "      <th>609</th>\n",
       "      <td>مخالفات</td>\n",
       "      <td>مخالفة</td>\n",
       "    </tr>\n",
       "    <tr>\n",
       "      <th>610</th>\n",
       "      <td>فواتيري</td>\n",
       "      <td>فاتورة</td>\n",
       "    </tr>\n",
       "    <tr>\n",
       "      <th>611</th>\n",
       "      <td>اعرف نوع المخالفه</td>\n",
       "      <td>أعرف نوع مخالف</td>\n",
       "    </tr>\n",
       "  </tbody>\n",
       "</table>\n",
       "<p>612 rows × 2 columns</p>\n",
       "</div>\n",
       "      <button class=\"colab-df-convert\" onclick=\"convertToInteractive('df-2e31be5b-49a4-4f8b-9cf2-d41daf976dcd')\"\n",
       "              title=\"Convert this dataframe to an interactive table.\"\n",
       "              style=\"display:none;\">\n",
       "        \n",
       "  <svg xmlns=\"http://www.w3.org/2000/svg\" height=\"24px\"viewBox=\"0 0 24 24\"\n",
       "       width=\"24px\">\n",
       "    <path d=\"M0 0h24v24H0V0z\" fill=\"none\"/>\n",
       "    <path d=\"M18.56 5.44l.94 2.06.94-2.06 2.06-.94-2.06-.94-.94-2.06-.94 2.06-2.06.94zm-11 1L8.5 8.5l.94-2.06 2.06-.94-2.06-.94L8.5 2.5l-.94 2.06-2.06.94zm10 10l.94 2.06.94-2.06 2.06-.94-2.06-.94-.94-2.06-.94 2.06-2.06.94z\"/><path d=\"M17.41 7.96l-1.37-1.37c-.4-.4-.92-.59-1.43-.59-.52 0-1.04.2-1.43.59L10.3 9.45l-7.72 7.72c-.78.78-.78 2.05 0 2.83L4 21.41c.39.39.9.59 1.41.59.51 0 1.02-.2 1.41-.59l7.78-7.78 2.81-2.81c.8-.78.8-2.07 0-2.86zM5.41 20L4 18.59l7.72-7.72 1.47 1.35L5.41 20z\"/>\n",
       "  </svg>\n",
       "      </button>\n",
       "      \n",
       "  <style>\n",
       "    .colab-df-container {\n",
       "      display:flex;\n",
       "      flex-wrap:wrap;\n",
       "      gap: 12px;\n",
       "    }\n",
       "\n",
       "    .colab-df-convert {\n",
       "      background-color: #E8F0FE;\n",
       "      border: none;\n",
       "      border-radius: 50%;\n",
       "      cursor: pointer;\n",
       "      display: none;\n",
       "      fill: #1967D2;\n",
       "      height: 32px;\n",
       "      padding: 0 0 0 0;\n",
       "      width: 32px;\n",
       "    }\n",
       "\n",
       "    .colab-df-convert:hover {\n",
       "      background-color: #E2EBFA;\n",
       "      box-shadow: 0px 1px 2px rgba(60, 64, 67, 0.3), 0px 1px 3px 1px rgba(60, 64, 67, 0.15);\n",
       "      fill: #174EA6;\n",
       "    }\n",
       "\n",
       "    [theme=dark] .colab-df-convert {\n",
       "      background-color: #3B4455;\n",
       "      fill: #D2E3FC;\n",
       "    }\n",
       "\n",
       "    [theme=dark] .colab-df-convert:hover {\n",
       "      background-color: #434B5C;\n",
       "      box-shadow: 0px 1px 3px 1px rgba(0, 0, 0, 0.15);\n",
       "      filter: drop-shadow(0px 1px 2px rgba(0, 0, 0, 0.3));\n",
       "      fill: #FFFFFF;\n",
       "    }\n",
       "  </style>\n",
       "\n",
       "      <script>\n",
       "        const buttonEl =\n",
       "          document.querySelector('#df-2e31be5b-49a4-4f8b-9cf2-d41daf976dcd button.colab-df-convert');\n",
       "        buttonEl.style.display =\n",
       "          google.colab.kernel.accessAllowed ? 'block' : 'none';\n",
       "\n",
       "        async function convertToInteractive(key) {\n",
       "          const element = document.querySelector('#df-2e31be5b-49a4-4f8b-9cf2-d41daf976dcd');\n",
       "          const dataTable =\n",
       "            await google.colab.kernel.invokeFunction('convertToInteractive',\n",
       "                                                     [key], {});\n",
       "          if (!dataTable) return;\n",
       "\n",
       "          const docLinkHtml = 'Like what you see? Visit the ' +\n",
       "            '<a target=\"_blank\" href=https://colab.research.google.com/notebooks/data_table.ipynb>data table notebook</a>'\n",
       "            + ' to learn more about interactive tables.';\n",
       "          element.innerHTML = '';\n",
       "          dataTable['output_type'] = 'display_data';\n",
       "          await google.colab.output.renderOutput(dataTable, element);\n",
       "          const docLink = document.createElement('div');\n",
       "          docLink.innerHTML = docLinkHtml;\n",
       "          element.appendChild(docLink);\n",
       "        }\n",
       "      </script>\n",
       "    </div>\n",
       "  </div>\n",
       "  "
      ],
      "text/plain": [
       "                                        text                        text_token\n",
       "0                        شخص واقف خلف سيارتي                شخص واقف خلف سيارة\n",
       "1                       شخص متوقف خلف سيارتي               شخص متوقف خلف سيارة\n",
       "2                        احد موقف خلف سيارتي                أحد موقف خلف سيارة\n",
       "3                       واحد موقف خلف سيارتي               واحد موقف خلف سيارة\n",
       "4                             واحد واقف خلفي                     واحد واقف خلف\n",
       "..                                       ...                               ...\n",
       "607                            مبلغ مخالفاتي                       مبلغ مخالفة\n",
       "608  وجدت مخالفات جديده الاستفسار وقت حدوثها  وجد مخالفة جديد استفسار وقت حدوث\n",
       "609                                  مخالفات                            مخالفة\n",
       "610                                  فواتيري                            فاتورة\n",
       "611                        اعرف نوع المخالفه                    أعرف نوع مخالف\n",
       "\n",
       "[612 rows x 2 columns]"
      ]
     },
     "execution_count": 30,
     "metadata": {},
     "output_type": "execute_result"
    }
   ],
   "source": [
    "df = pd.DataFrame((stem_arr), columns =['text_token'])\n",
    "print(df)\n",
    "result = pd.concat([data, df], axis=1, join='inner')\n",
    "result"
   ]
  },
  {
   "cell_type": "code",
   "execution_count": 21,
   "metadata": {
    "colab": {
     "base_uri": "https://localhost:8080/",
     "height": 424
    },
    "id": "jADr2pJllUO-",
    "outputId": "b81de7e2-d5eb-44e9-ff34-62387846ad04"
   },
   "outputs": [
    {
     "data": {
      "text/html": [
       "\n",
       "  <div id=\"df-ddfed1ba-c02b-41ec-addf-c6b50e96dc7a\">\n",
       "    <div class=\"colab-df-container\">\n",
       "      <div>\n",
       "<style scoped>\n",
       "    .dataframe tbody tr th:only-of-type {\n",
       "        vertical-align: middle;\n",
       "    }\n",
       "\n",
       "    .dataframe tbody tr th {\n",
       "        vertical-align: top;\n",
       "    }\n",
       "\n",
       "    .dataframe thead th {\n",
       "        text-align: right;\n",
       "    }\n",
       "</style>\n",
       "<table border=\"1\" class=\"dataframe\">\n",
       "  <thead>\n",
       "    <tr style=\"text-align: right;\">\n",
       "      <th></th>\n",
       "      <th>text</th>\n",
       "      <th>text_token</th>\n",
       "    </tr>\n",
       "  </thead>\n",
       "  <tbody>\n",
       "    <tr>\n",
       "      <th>0</th>\n",
       "      <td>شخص واقف خلف سيارتي</td>\n",
       "      <td>[شخص, واقف, خلف, سيارة]</td>\n",
       "    </tr>\n",
       "    <tr>\n",
       "      <th>1</th>\n",
       "      <td>شخص متوقف خلف سيارتي</td>\n",
       "      <td>[شخص, متوقف, خلف, سيارة]</td>\n",
       "    </tr>\n",
       "    <tr>\n",
       "      <th>2</th>\n",
       "      <td>احد موقف خلف سيارتي</td>\n",
       "      <td>[أحد, موقف, خلف, سيارة]</td>\n",
       "    </tr>\n",
       "    <tr>\n",
       "      <th>3</th>\n",
       "      <td>واحد موقف خلف سيارتي</td>\n",
       "      <td>[واحد, موقف, خلف, سيارة]</td>\n",
       "    </tr>\n",
       "    <tr>\n",
       "      <th>4</th>\n",
       "      <td>واحد واقف خلفي</td>\n",
       "      <td>[واحد, واقف, خلف]</td>\n",
       "    </tr>\n",
       "    <tr>\n",
       "      <th>...</th>\n",
       "      <td>...</td>\n",
       "      <td>...</td>\n",
       "    </tr>\n",
       "    <tr>\n",
       "      <th>607</th>\n",
       "      <td>مبلغ مخالفاتي</td>\n",
       "      <td>[مبلغ, مخالفة]</td>\n",
       "    </tr>\n",
       "    <tr>\n",
       "      <th>608</th>\n",
       "      <td>وجدت مخالفات جديده الاستفسار وقت حدوثها</td>\n",
       "      <td>[وجد, مخالفة, جديد, استفسار, وقت, حدوث]</td>\n",
       "    </tr>\n",
       "    <tr>\n",
       "      <th>609</th>\n",
       "      <td>مخالفات</td>\n",
       "      <td>[مخالفة]</td>\n",
       "    </tr>\n",
       "    <tr>\n",
       "      <th>610</th>\n",
       "      <td>فواتيري</td>\n",
       "      <td>[فاتورة]</td>\n",
       "    </tr>\n",
       "    <tr>\n",
       "      <th>611</th>\n",
       "      <td>اعرف نوع المخالفه</td>\n",
       "      <td>[أعرف, نوع, مخالف]</td>\n",
       "    </tr>\n",
       "  </tbody>\n",
       "</table>\n",
       "<p>612 rows × 2 columns</p>\n",
       "</div>\n",
       "      <button class=\"colab-df-convert\" onclick=\"convertToInteractive('df-ddfed1ba-c02b-41ec-addf-c6b50e96dc7a')\"\n",
       "              title=\"Convert this dataframe to an interactive table.\"\n",
       "              style=\"display:none;\">\n",
       "        \n",
       "  <svg xmlns=\"http://www.w3.org/2000/svg\" height=\"24px\"viewBox=\"0 0 24 24\"\n",
       "       width=\"24px\">\n",
       "    <path d=\"M0 0h24v24H0V0z\" fill=\"none\"/>\n",
       "    <path d=\"M18.56 5.44l.94 2.06.94-2.06 2.06-.94-2.06-.94-.94-2.06-.94 2.06-2.06.94zm-11 1L8.5 8.5l.94-2.06 2.06-.94-2.06-.94L8.5 2.5l-.94 2.06-2.06.94zm10 10l.94 2.06.94-2.06 2.06-.94-2.06-.94-.94-2.06-.94 2.06-2.06.94z\"/><path d=\"M17.41 7.96l-1.37-1.37c-.4-.4-.92-.59-1.43-.59-.52 0-1.04.2-1.43.59L10.3 9.45l-7.72 7.72c-.78.78-.78 2.05 0 2.83L4 21.41c.39.39.9.59 1.41.59.51 0 1.02-.2 1.41-.59l7.78-7.78 2.81-2.81c.8-.78.8-2.07 0-2.86zM5.41 20L4 18.59l7.72-7.72 1.47 1.35L5.41 20z\"/>\n",
       "  </svg>\n",
       "      </button>\n",
       "      \n",
       "  <style>\n",
       "    .colab-df-container {\n",
       "      display:flex;\n",
       "      flex-wrap:wrap;\n",
       "      gap: 12px;\n",
       "    }\n",
       "\n",
       "    .colab-df-convert {\n",
       "      background-color: #E8F0FE;\n",
       "      border: none;\n",
       "      border-radius: 50%;\n",
       "      cursor: pointer;\n",
       "      display: none;\n",
       "      fill: #1967D2;\n",
       "      height: 32px;\n",
       "      padding: 0 0 0 0;\n",
       "      width: 32px;\n",
       "    }\n",
       "\n",
       "    .colab-df-convert:hover {\n",
       "      background-color: #E2EBFA;\n",
       "      box-shadow: 0px 1px 2px rgba(60, 64, 67, 0.3), 0px 1px 3px 1px rgba(60, 64, 67, 0.15);\n",
       "      fill: #174EA6;\n",
       "    }\n",
       "\n",
       "    [theme=dark] .colab-df-convert {\n",
       "      background-color: #3B4455;\n",
       "      fill: #D2E3FC;\n",
       "    }\n",
       "\n",
       "    [theme=dark] .colab-df-convert:hover {\n",
       "      background-color: #434B5C;\n",
       "      box-shadow: 0px 1px 3px 1px rgba(0, 0, 0, 0.15);\n",
       "      filter: drop-shadow(0px 1px 2px rgba(0, 0, 0, 0.3));\n",
       "      fill: #FFFFFF;\n",
       "    }\n",
       "  </style>\n",
       "\n",
       "      <script>\n",
       "        const buttonEl =\n",
       "          document.querySelector('#df-ddfed1ba-c02b-41ec-addf-c6b50e96dc7a button.colab-df-convert');\n",
       "        buttonEl.style.display =\n",
       "          google.colab.kernel.accessAllowed ? 'block' : 'none';\n",
       "\n",
       "        async function convertToInteractive(key) {\n",
       "          const element = document.querySelector('#df-ddfed1ba-c02b-41ec-addf-c6b50e96dc7a');\n",
       "          const dataTable =\n",
       "            await google.colab.kernel.invokeFunction('convertToInteractive',\n",
       "                                                     [key], {});\n",
       "          if (!dataTable) return;\n",
       "\n",
       "          const docLinkHtml = 'Like what you see? Visit the ' +\n",
       "            '<a target=\"_blank\" href=https://colab.research.google.com/notebooks/data_table.ipynb>data table notebook</a>'\n",
       "            + ' to learn more about interactive tables.';\n",
       "          element.innerHTML = '';\n",
       "          dataTable['output_type'] = 'display_data';\n",
       "          await google.colab.output.renderOutput(dataTable, element);\n",
       "          const docLink = document.createElement('div');\n",
       "          docLink.innerHTML = docLinkHtml;\n",
       "          element.appendChild(docLink);\n",
       "        }\n",
       "      </script>\n",
       "    </div>\n",
       "  </div>\n",
       "  "
      ],
      "text/plain": [
       "                                        text                               text_token\n",
       "0                        شخص واقف خلف سيارتي                  [شخص, واقف, خلف, سيارة]\n",
       "1                       شخص متوقف خلف سيارتي                 [شخص, متوقف, خلف, سيارة]\n",
       "2                        احد موقف خلف سيارتي                  [أحد, موقف, خلف, سيارة]\n",
       "3                       واحد موقف خلف سيارتي                 [واحد, موقف, خلف, سيارة]\n",
       "4                             واحد واقف خلفي                        [واحد, واقف, خلف]\n",
       "..                                       ...                                      ...\n",
       "607                            مبلغ مخالفاتي                           [مبلغ, مخالفة]\n",
       "608  وجدت مخالفات جديده الاستفسار وقت حدوثها  [وجد, مخالفة, جديد, استفسار, وقت, حدوث]\n",
       "609                                  مخالفات                                 [مخالفة]\n",
       "610                                  فواتيري                                 [فاتورة]\n",
       "611                        اعرف نوع المخالفه                       [أعرف, نوع, مخالف]\n",
       "\n",
       "[612 rows x 2 columns]"
      ]
     },
     "execution_count": 21,
     "metadata": {},
     "output_type": "execute_result"
    }
   ],
   "source": [
    "# result['text_token'] = result['text_token'].apply(lambda x: x.split())\n",
    "\n",
    "# result['text_token']=result['text_token'].apply(lambda x: [item for item in x if item not in arb_stopwords])\n",
    "# result\n"
   ]
  },
  {
   "cell_type": "code",
   "execution_count": null,
   "metadata": {
    "id": "qPYAbNmTvQnI"
   },
   "outputs": [],
   "source": [
    "# count_vectorizer = CountVectorizer(stop_words=arb_stopwords)\n",
    "# matrix = count_vectorizer.fit_transform(result.text_token)\n",
    "\n",
    "# counts = pd.DataFrame(matrix.toarray(),columns=count_vectorizer.get_feature_names())\n",
    "# counts"
   ]
  },
  {
   "cell_type": "code",
   "execution_count": 31,
   "metadata": {
    "id": "1S6Q96ZmGZhr"
   },
   "outputs": [],
   "source": [
    "documents = result['text_token'].values"
   ]
  },
  {
   "cell_type": "markdown",
   "metadata": {
    "id": "S2SRCMaPIizW"
   },
   "source": [
    "#Embedding model\n",
    "the model in this project is (bert-base-arabertv02) from [Hugging Face](https://huggingface.co/models)\n",
    "\n",
    "For more deatelis check out BERTopic decomntion [here](https://maartengr.github.io/BERTopic/tutorial/embeddings/embeddings.html)."
   ]
  },
  {
   "cell_type": "code",
   "execution_count": null,
   "metadata": {
    "id": "XCW-jMbyUffN"
   },
   "outputs": [],
   "source": [
    "#to experiment with other BERT models simply change the model name below\n",
    "\n",
    "# arabert = TransformerDocumentEmbeddings('aubmindlab/bert-base-arabertv02')"
   ]
  },
  {
   "cell_type": "markdown",
   "metadata": {
    "id": "SBcNmZJzSTY8"
   },
   "source": [
    "# **Create Topics**\n"
   ]
  },
  {
   "cell_type": "markdown",
   "metadata": {
    "id": "kkbmf2rmhGZx"
   },
   "source": [
    "the default value of the bertopic was 24. however, due to the small size of the data, we specified the number of topics to be 7."
   ]
  },
  {
   "cell_type": "code",
   "execution_count": null,
   "metadata": {
    "id": "OGiQB1iC8pFl"
   },
   "outputs": [],
   "source": [
    "# topic_model = BERTopic(language=\"arabic\", low_memory=True ,calculate_probabilities=False,embedding_model=arabert,nr_topics=7)"
   ]
  },
  {
   "cell_type": "code",
   "execution_count": null,
   "metadata": {
    "id": "TfhfzqkoSJ1I"
   },
   "outputs": [],
   "source": [
    "# topics, probs = topic_model.fit_transform(documents)"
   ]
  },
  {
   "cell_type": "code",
   "execution_count": null,
   "metadata": {
    "id": "AiqknMl5yfqo"
   },
   "outputs": [],
   "source": [
    "# topic_model.get_topic_freq()"
   ]
  },
  {
   "cell_type": "markdown",
   "metadata": {
    "id": "krD3o2zufHoV"
   },
   "source": [
    "-1 refers to all outliers and should typically be ignored. Next, let's take a look at the most frequent topic that was generated:"
   ]
  },
  {
   "cell_type": "code",
   "execution_count": null,
   "metadata": {
    "id": "KRgQp9IT7rnX"
   },
   "outputs": [],
   "source": [
    "# topic_model.get_topic(-1)[:10]"
   ]
  },
  {
   "cell_type": "code",
   "execution_count": null,
   "metadata": {
    "id": "lkwKLYvw7rgl"
   },
   "outputs": [],
   "source": [
    "# topic_model.get_topic(0)[:10]"
   ]
  },
  {
   "cell_type": "code",
   "execution_count": null,
   "metadata": {
    "id": "05Mu184PhuLK"
   },
   "outputs": [],
   "source": [
    "# topic_model.get_topic(1)[:10]"
   ]
  },
  {
   "cell_type": "code",
   "execution_count": null,
   "metadata": {
    "id": "z23uQ3w4zRxC"
   },
   "outputs": [],
   "source": [
    "# topic_model.get_topic(2)[:10]"
   ]
  },
  {
   "cell_type": "code",
   "execution_count": null,
   "metadata": {
    "id": "XRwJ65LdzSgW"
   },
   "outputs": [],
   "source": [
    "# topic_model.get_topic(3)[:10]"
   ]
  },
  {
   "cell_type": "code",
   "execution_count": null,
   "metadata": {
    "id": "EU6Br53VL8UY"
   },
   "outputs": [],
   "source": [
    "# topic_model.get_topic(4)[:10]"
   ]
  },
  {
   "cell_type": "code",
   "execution_count": null,
   "metadata": {
    "id": "VL2QOqBDW7bm"
   },
   "outputs": [],
   "source": [
    "# topic_model.get_topic(5)[:10]"
   ]
  },
  {
   "cell_type": "code",
   "execution_count": null,
   "metadata": {
    "id": "HxyDbIv3f4DK"
   },
   "outputs": [],
   "source": [
    "# topic_model.get_topic(6)[:10]"
   ]
  },
  {
   "cell_type": "markdown",
   "metadata": {
    "id": "1UCb_fnUo_rJ"
   },
   "source": [
    "# LDA\n",
    "\n",
    "We use the [ parallelized Latent Dirichlet Allocation (LDA)](https://radimrehurek.com/gensim/models/ldamulticore.html) from Gensim.\n",
    "\n",
    "Note: for LDA you have to define topics number in advance."
   ]
  },
  {
   "cell_type": "code",
   "execution_count": 32,
   "metadata": {
    "id": "RGlCtdo4bY21"
   },
   "outputs": [],
   "source": [
    "texts = [[word for word in str(document).split()] for document in documents]\n",
    "id2word = corpora.Dictionary(texts)\n",
    "corpus = [id2word.doc2bow(text) for text in texts]"
   ]
  },
  {
   "cell_type": "code",
   "execution_count": 33,
   "metadata": {
    "id": "FP89p9qGpA86"
   },
   "outputs": [],
   "source": [
    "no_topics = 7\n",
    "lda = LdaMulticore(corpus, id2word=id2word, num_topics=no_topics)"
   ]
  },
  {
   "cell_type": "code",
   "execution_count": 34,
   "metadata": {
    "colab": {
     "base_uri": "https://localhost:8080/"
    },
    "id": "l6gPvQtyaUOf",
    "outputId": "ba12e5bb-e274-4d46-cb15-c3c97c081f67"
   },
   "outputs": [
    {
     "name": "stdout",
     "output_type": "stream",
     "text": [
      "[(0,\n",
      "  '0.142*\"مخالفة\" + 0.099*\"مخالف\" + 0.089*\"سيارة\" + 0.045*\"طفل\" + 0.034*\"وجد\" '\n",
      "  '+ 0.034*\"محجوز\" + 0.034*\"أظهر\" + 0.023*\"أطفال\" + 0.023*\"مغلق\" + '\n",
      "  '0.023*\"داخل\"'),\n",
      " (1,\n",
      "  '0.175*\"سيارة\" + 0.155*\"مخالفة\" + 0.080*\"شخص\" + 0.035*\"حك\" + 0.035*\"متوقف\" + '\n",
      "  '0.032*\"أطفال\" + 0.029*\"طريق\" + 0.029*\"خلف\" + 0.026*\"وحد\" + 0.023*\"موقف\"'),\n",
      " (2,\n",
      "  '0.218*\"سيارة\" + 0.120*\"مقفل\" + 0.078*\"شخص\" + 0.073*\"وجد\" + 0.051*\"طفل\" + '\n",
      "  '0.051*\"أطفال\" + 0.026*\"طريق\" + 0.024*\"محجوز\" + 0.018*\"مركب\" + 0.017*\"موقف\"'),\n",
      " (3,\n",
      "  '0.219*\"سيارة\" + 0.064*\"شخص\" + 0.050*\"مقفل\" + 0.050*\"واحد\" + 0.043*\"طفل\" + '\n",
      "  '0.040*\"متوقف\" + 0.036*\"كسر\" + 0.033*\"طريق\" + 0.031*\"زجاج\" + 0.028*\"صدم\"'),\n",
      " (4,\n",
      "  '0.145*\"سيارة\" + 0.089*\"مخالف\" + 0.057*\"نوع\" + 0.057*\"أعرف\" + 0.052*\"أطفال\" '\n",
      "  '+ 0.038*\"مقفل\" + 0.038*\"خلف\" + 0.038*\"واحد\" + 0.038*\"لا\" + 0.038*\"أستطيع\"'),\n",
      " (5,\n",
      "  '0.207*\"سيارة\" + 0.126*\"أحد\" + 0.058*\"واقف\" + 0.040*\"حك\" + 0.037*\"هي\" + '\n",
      "  '0.037*\"خلف\" + 0.034*\"مقفل\" + 0.034*\"طفل\" + 0.032*\"صدم\" + 0.032*\"موقف\"'),\n",
      " (6,\n",
      "  '0.130*\"سيارة\" + 0.125*\"أطفال\" + 0.095*\"مغلق\" + 0.080*\"محتجز\" + 0.060*\"وجد\" '\n",
      "  '+ 0.060*\"مركب\" + 0.050*\"داخل\" + 0.040*\"طفل\" + 0.040*\"وحد\" + '\n",
      "  '0.026*\"محجوزين\"')]\n"
     ]
    }
   ],
   "source": [
    "from pprint import pprint\n",
    "pprint(lda.print_topics())\n",
    "doc_lda = lda[corpus]"
   ]
  },
  {
   "cell_type": "code",
   "execution_count": null,
   "metadata": {
    "id": "ep0Pl3qqpevJ"
   },
   "outputs": [],
   "source": [
    "# coherence_model_lda = CoherenceModel(model=lda, texts=texts, dictionary=id2word, coherence='c_v')\n",
    "# coherence_lda = coherence_model_lda.get_coherence()\n",
    "# print('\\nCoherence Score: ', coherence_lda)"
   ]
  },
  {
   "cell_type": "code",
   "execution_count": 35,
   "metadata": {
    "colab": {
     "base_uri": "https://localhost:8080/"
    },
    "id": "rD-h3cbRdG9p",
    "outputId": "4bc287e1-c81f-437e-d36c-aa2306b7596c"
   },
   "outputs": [
    {
     "data": {
      "text/plain": [
       "[(0,\n",
       "  '0.142*\"مخالفة\" + 0.099*\"مخالف\" + 0.089*\"سيارة\" + 0.045*\"طفل\" + 0.034*\"وجد\" + 0.034*\"محجوز\" + 0.034*\"أظهر\" + 0.023*\"أطفال\" + 0.023*\"مغلق\" + 0.023*\"داخل\"'),\n",
       " (1,\n",
       "  '0.175*\"سيارة\" + 0.155*\"مخالفة\" + 0.080*\"شخص\" + 0.035*\"حك\" + 0.035*\"متوقف\" + 0.032*\"أطفال\" + 0.029*\"طريق\" + 0.029*\"خلف\" + 0.026*\"وحد\" + 0.023*\"موقف\"'),\n",
       " (2,\n",
       "  '0.218*\"سيارة\" + 0.120*\"مقفل\" + 0.078*\"شخص\" + 0.073*\"وجد\" + 0.051*\"طفل\" + 0.051*\"أطفال\" + 0.026*\"طريق\" + 0.024*\"محجوز\" + 0.018*\"مركب\" + 0.017*\"موقف\"'),\n",
       " (3,\n",
       "  '0.219*\"سيارة\" + 0.064*\"شخص\" + 0.050*\"مقفل\" + 0.050*\"واحد\" + 0.043*\"طفل\" + 0.040*\"متوقف\" + 0.036*\"كسر\" + 0.033*\"طريق\" + 0.031*\"زجاج\" + 0.028*\"صدم\"'),\n",
       " (4,\n",
       "  '0.145*\"سيارة\" + 0.089*\"مخالف\" + 0.057*\"نوع\" + 0.057*\"أعرف\" + 0.052*\"أطفال\" + 0.038*\"مقفل\" + 0.038*\"خلف\" + 0.038*\"واحد\" + 0.038*\"لا\" + 0.038*\"أستطيع\"'),\n",
       " (5,\n",
       "  '0.207*\"سيارة\" + 0.126*\"أحد\" + 0.058*\"واقف\" + 0.040*\"حك\" + 0.037*\"هي\" + 0.037*\"خلف\" + 0.034*\"مقفل\" + 0.034*\"طفل\" + 0.032*\"صدم\" + 0.032*\"موقف\"'),\n",
       " (6,\n",
       "  '0.130*\"سيارة\" + 0.125*\"أطفال\" + 0.095*\"مغلق\" + 0.080*\"محتجز\" + 0.060*\"وجد\" + 0.060*\"مركب\" + 0.050*\"داخل\" + 0.040*\"طفل\" + 0.040*\"وحد\" + 0.026*\"محجوزين\"')]"
      ]
     },
     "execution_count": 35,
     "metadata": {},
     "output_type": "execute_result"
    }
   ],
   "source": [
    "lda.print_topics()"
   ]
  },
  {
   "cell_type": "code",
   "execution_count": null,
   "metadata": {
    "id": "sX36sCI-yfhH"
   },
   "outputs": [],
   "source": [
    "# !pip install pyLDAvis"
   ]
  },
  {
   "cell_type": "code",
   "execution_count": null,
   "metadata": {
    "id": "3SeKHouJdG9q"
   },
   "outputs": [],
   "source": [
    "# import pyLDAvis\n",
    "# import gensim\n",
    "# import pyLDAvis\n",
    "# import pyLDAvis.gensim\n",
    "# vis = gensim.prepare(lda, corpus, dictionary=lda_model.id2word)\n",
    "# vis"
   ]
  },
  {
   "cell_type": "markdown",
   "metadata": {
    "id": "EAbf7WWupz6B"
   },
   "source": [
    "#NMF\n",
    "We use Scikit-learn implementation of [NMF](https://scikit-learn.org/stable/modules/generated/sklearn.decomposition.NMF.html).\n",
    "\n",
    "Note: for NMF you have to define topics number in advance."
   ]
  },
  {
   "cell_type": "code",
   "execution_count": 36,
   "metadata": {
    "colab": {
     "base_uri": "https://localhost:8080/"
    },
    "id": "ongX2jbZpifi",
    "outputId": "c82f132d-c46f-463b-93b3-8873b2f3939a"
   },
   "outputs": [
    {
     "name": "stderr",
     "output_type": "stream",
     "text": [
      "/usr/local/lib/python3.7/dist-packages/sklearn/utils/deprecation.py:87: FutureWarning: Function get_feature_names is deprecated; get_feature_names is deprecated in 1.0 and will be removed in 1.2. Please use get_feature_names_out instead.\n",
      "  warnings.warn(msg, category=FutureWarning)\n"
     ]
    }
   ],
   "source": [
    "tfidf_vectorizer = TfidfVectorizer(max_df=0.95, min_df=2)\n",
    "tfidf = tfidf_vectorizer.fit_transform(documents)\n",
    "tfidf_feature_names = tfidf_vectorizer.get_feature_names()"
   ]
  },
  {
   "cell_type": "code",
   "execution_count": 37,
   "metadata": {
    "colab": {
     "base_uri": "https://localhost:8080/"
    },
    "id": "CE7N4UPUqlpf",
    "outputId": "9e61fe5f-b3de-442b-d59c-20c361ec01c8"
   },
   "outputs": [
    {
     "name": "stderr",
     "output_type": "stream",
     "text": [
      "/usr/local/lib/python3.7/dist-packages/sklearn/decomposition/_nmf.py:1425: FutureWarning: `alpha` was deprecated in version 1.0 and will be removed in 1.2. Use `alpha_W` and `alpha_H` instead\n",
      "  FutureWarning,\n"
     ]
    }
   ],
   "source": [
    "no_topics = 7\n",
    "nmf = NMF(n_components=no_topics, random_state=1, alpha=.1, l1_ratio=.5, init='nndsvd').fit(tfidf)"
   ]
  },
  {
   "cell_type": "code",
   "execution_count": 38,
   "metadata": {
    "colab": {
     "base_uri": "https://localhost:8080/"
    },
    "id": "j9Fm3Ox1q1WU",
    "outputId": "83b51f4f-0060-4963-8c33-d4a365e842d7"
   },
   "outputs": [
    {
     "name": "stderr",
     "output_type": "stream",
     "text": [
      "/usr/local/lib/python3.7/dist-packages/sklearn/utils/deprecation.py:87: FutureWarning: Function get_feature_names is deprecated; get_feature_names is deprecated in 1.0 and will be removed in 1.2. Please use get_feature_names_out instead.\n",
      "  warnings.warn(msg, category=FutureWarning)\n"
     ]
    }
   ],
   "source": [
    "topics_NMF=[]\n",
    "for index, topic in enumerate(nmf.components_):\n",
    "    row=[]\n",
    "    for i in topic.argsort()[-10:]:\n",
    "      row.append(tfidf_vectorizer.get_feature_names()[i])\n",
    "    topics_NMF.append(row)"
   ]
  },
  {
   "cell_type": "code",
   "execution_count": 39,
   "metadata": {
    "colab": {
     "base_uri": "https://localhost:8080/"
    },
    "id": "Ka-9N3RgY-_8",
    "outputId": "d666684c-8acc-43e8-a7b8-d183f1739d02"
   },
   "outputs": [
    {
     "name": "stdout",
     "output_type": "stream",
     "text": [
      "['اطفال', 'خط', 'مركب', 'اولاد', 'أحد', 'سيارة', 'وجد', 'شخص', 'طريق', 'مقفل']\n",
      "['جديد', 'استفسار', 'عدد', 'تفصيل', 'مجموع', 'أظهر', 'مرصوده', 'كم', 'مبلغ', 'مخالفة']\n",
      "['اهل', 'ناسيين', 'نايم', 'نائم', 'وجد', 'مغلق', 'محجوز', 'وحد', 'سيارة', 'طفل']\n",
      "['غلط', 'خلف', 'واحد', 'سيارة', 'هرب', 'هي', 'واقف', 'صدم', 'حك', 'أحد']\n",
      "['وجد', 'نائم', 'محجوزين', 'داخل', 'مغلق', 'وحد', 'مركب', 'سيارة', 'محتجز', 'أطفال']\n",
      "['غلط', 'شكل', 'خاطئ', 'زجاج', 'موقف', 'كسر', 'متوقف', 'سيارة', 'خلف', 'شخص']\n",
      "['خدش', 'طافي', 'صدمة', 'عدد', 'كم', 'عند', 'ماسبب', 'أعرف', 'نوع', 'مخالف']\n"
     ]
    }
   ],
   "source": [
    "for i in range(0,len(topics_NMF)):\n",
    "  print(topics_NMF[i])\n"
   ]
  },
  {
   "cell_type": "code",
   "execution_count": null,
   "metadata": {
    "id": "BEzvoNFPrBft"
   },
   "outputs": [],
   "source": [
    "# cm = CoherenceModel(topics=topics_NMF, texts=texts, corpus=corpus, dictionary=id2word, coherence='c_npmi')\n",
    "# coherence_nmf = cm.get_coherence()  \n",
    "# print('\\nCoherence Score: ', coherence_nmf)"
   ]
  },
  {
   "cell_type": "code",
   "execution_count": null,
   "metadata": {
    "id": "j0M2JASMdDJL"
   },
   "outputs": [],
   "source": []
  },
  {
   "cell_type": "code",
   "execution_count": null,
   "metadata": {
    "id": "gDSAs61qdFJv"
   },
   "outputs": [],
   "source": []
  },
  {
   "cell_type": "markdown",
   "metadata": {
    "id": "edo1iBWnOKJl"
   },
   "source": [
    "#Validation"
   ]
  },
  {
   "cell_type": "code",
   "execution_count": null,
   "metadata": {
    "id": "XxHtjF3q7Yo2"
   },
   "outputs": [],
   "source": [
    "# texts = [[word for word in str(document).split()] for document in documents]\n",
    "# print(texts)\n",
    "# id2word = corpora.Dictionary(texts)\n",
    "# print(id2word)\n",
    "# corpus = [id2word.doc2bow(text) for text in texts]\n",
    "# print(corpus)"
   ]
  },
  {
   "cell_type": "code",
   "execution_count": null,
   "metadata": {
    "id": "PHbifeYYv7rx"
   },
   "outputs": [],
   "source": [
    "# topics=[]\n",
    "# for i in topic_model.get_topics():\n",
    "#   row=[]\n",
    "#   topic= topic_model.get_topic(i)\n",
    "#   for word in topic:\n",
    "#      row.append(word[0])\n",
    "#   topics.append(row)\n",
    "# print(topics)"
   ]
  },
  {
   "cell_type": "code",
   "execution_count": null,
   "metadata": {
    "id": "onqm-4funXW5"
   },
   "outputs": [],
   "source": [
    "# compute Coherence Score\n",
    "\n",
    "# cm = CoherenceModel(model=topic_model,topics=topics, texts=texts, corpus=corpus, dictionary=id2word, coherence='c_npmi')\n",
    "# coherence = cm.get_coherence() \n",
    "# print('\\nCoherence Score: ', coherence)"
   ]
  },
  {
   "cell_type": "markdown",
   "metadata": {
    "id": "M8c8LenB8Zyl"
   },
   "source": [
    "# **Visualize Topics**\n"
   ]
  },
  {
   "cell_type": "code",
   "execution_count": null,
   "metadata": {
    "id": "AQKBcla28bY0"
   },
   "outputs": [],
   "source": [
    "# topic_model.visualize_topics()"
   ]
  },
  {
   "cell_type": "code",
   "execution_count": null,
   "metadata": {
    "id": "qZNuKoVePavN"
   },
   "outputs": [],
   "source": [
    "# topic_model.visualize_barchart()"
   ]
  },
  {
   "cell_type": "markdown",
   "metadata": {
    "id": "wekNoQNuUVoU"
   },
   "source": [
    "# Model saving\n"
   ]
  },
  {
   "cell_type": "code",
   "execution_count": null,
   "metadata": {
    "id": "nWUF1uxiSb_a"
   },
   "outputs": [],
   "source": [
    "# Save model\n",
    "# topic_model.save(\"my_model4\")\t"
   ]
  },
  {
   "cell_type": "markdown",
   "metadata": {
    "id": "QdjtcqszPik5"
   },
   "source": [
    "#Model loding"
   ]
  },
  {
   "cell_type": "code",
   "execution_count": null,
   "metadata": {
    "id": "y_eHBI1jSb6i"
   },
   "outputs": [],
   "source": [
    "# Load model\n",
    "\n",
    "# my_model = BERTopic.load(\"/content/drive/MyDrive/NLP/my_model4\")\n"
   ]
  },
  {
   "cell_type": "code",
   "execution_count": null,
   "metadata": {
    "id": "BUqAmwDsuG-u"
   },
   "outputs": [],
   "source": [
    "# my_model.visualize_topics()"
   ]
  },
  {
   "cell_type": "code",
   "execution_count": null,
   "metadata": {
    "id": "52JL431rDykW"
   },
   "outputs": [],
   "source": [
    "# my_model.visualize_barchart()"
   ]
  },
  {
   "cell_type": "code",
   "execution_count": null,
   "metadata": {
    "id": "2IYxi5tKEPqJ"
   },
   "outputs": [],
   "source": [
    "# my_model.get_topic_freq()"
   ]
  },
  {
   "cell_type": "code",
   "execution_count": null,
   "metadata": {
    "id": "SsNhbJJXuNbI"
   },
   "outputs": [],
   "source": [
    "# my_model.get_topic(-1)[:10]"
   ]
  },
  {
   "cell_type": "code",
   "execution_count": null,
   "metadata": {
    "id": "Yrj6K6RZruZy"
   },
   "outputs": [],
   "source": [
    "# my_model.get_topic(0)[:10]\n"
   ]
  },
  {
   "cell_type": "code",
   "execution_count": null,
   "metadata": {
    "id": "I_lxAKF6uM2c"
   },
   "outputs": [],
   "source": [
    "# my_model.get_topic(1)[:10]"
   ]
  },
  {
   "cell_type": "code",
   "execution_count": null,
   "metadata": {
    "id": "6Oui9n35uM6h"
   },
   "outputs": [],
   "source": [
    "# my_model.get_topic(2)[:10]"
   ]
  },
  {
   "cell_type": "code",
   "execution_count": null,
   "metadata": {
    "id": "Ml5S9LCzuM9a"
   },
   "outputs": [],
   "source": [
    "# my_model.get_topic(3)[:10]"
   ]
  },
  {
   "cell_type": "code",
   "execution_count": null,
   "metadata": {
    "id": "ZlXpLAMMcHhf"
   },
   "outputs": [],
   "source": [
    "# my_model.get_topic(4)[:10]"
   ]
  },
  {
   "cell_type": "code",
   "execution_count": null,
   "metadata": {
    "id": "BOXfjfL-S0aX"
   },
   "outputs": [],
   "source": [
    "# my_model.get_topic(5)[:10]"
   ]
  },
  {
   "cell_type": "code",
   "execution_count": null,
   "metadata": {
    "id": "Z89AOd5O-fZs"
   },
   "outputs": [],
   "source": [
    "# my_model.get_topic(6)[:10]"
   ]
  },
  {
   "cell_type": "code",
   "execution_count": null,
   "metadata": {
    "id": "GQx2xa0bBaoE"
   },
   "outputs": [],
   "source": []
  },
  {
   "cell_type": "code",
   "execution_count": 40,
   "metadata": {
    "colab": {
     "base_uri": "https://localhost:8080/"
    },
    "id": "mGs7p_nQfmm7",
    "outputId": "1a972178-209c-40d7-d7e4-76cf6a0cec12"
   },
   "outputs": [
    {
     "name": "stdout",
     "output_type": "stream",
     "text": [
      "{'مخالفات': ['مخالفة', 'مخالف', 'نوع', 'أعرف', 'كم', 'جديد', 'وقت', 'حدوث', 'فاتورة', 'مبلغ'], 'طفل محتجز': ['طفل', 'أطفال', 'وحد', 'نائم', 'سيارة', 'اهل', 'ناسيين', 'ناس', 'بكى', 'قفلو', 'مركب', 'مقفل', 'داخل', 'محتجز', 'مغلق', 'أطفال', 'وبه', 'شخص', 'محجوزين', 'اولاد'], 'اصتدام': ['هرب', 'هي', 'صدم', 'حك', '', 'واقف', 'سيارة', 'شخص', 'متوقف', 'وجد', 'زجاج', 'مراي', 'حصل', 'كسر', 'سيارة', 'خدش', 'مكسور', 'مصدوم', 'انكسر', 'وجد'], 'موقف ثنائي': ['طريق', 'مقفل', 'مجهول', 'وجد', 'شخص', 'سيارة', 'سبب', 'محجوز', 'كسر', 'أنا', 'خلف', 'موقف', 'أستطيع', 'لا', 'خروج', 'غلط', '', 'واحد', 'واقف', 'متوقف']}\n"
     ]
    }
   ],
   "source": [
    "import pickle\n",
    "\n",
    "a_file = open(\"/content/drive/MyDrive/NLP/words.pkl\", \"rb\")\n",
    "output = pickle.load(a_file)\n",
    "print(output)\n",
    "\n",
    "a_file.close()"
   ]
  },
  {
   "cell_type": "code",
   "execution_count": 41,
   "metadata": {
    "colab": {
     "base_uri": "https://localhost:8080/"
    },
    "id": "te-PqEQFjFl_",
    "outputId": "4442ce6e-88c6-4587-8deb-08c219278033"
   },
   "outputs": [
    {
     "name": "stdout",
     "output_type": "stream",
     "text": [
      "Key ::  مخالفات\n",
      "مخالفة\n",
      "مخالف\n",
      "نوع\n",
      "أعرف\n",
      "كم\n",
      "جديد\n",
      "وقت\n",
      "حدوث\n",
      "فاتورة\n",
      "مبلغ\n",
      "Key ::  طفل محتجز\n",
      "طفل\n",
      "أطفال\n",
      "وحد\n",
      "نائم\n",
      "سيارة\n",
      "اهل\n",
      "ناسيين\n",
      "ناس\n",
      "بكى\n",
      "قفلو\n",
      "مركب\n",
      "مقفل\n",
      "داخل\n",
      "محتجز\n",
      "مغلق\n",
      "أطفال\n",
      "وبه\n",
      "شخص\n",
      "محجوزين\n",
      "اولاد\n",
      "Key ::  اصتدام\n",
      "هرب\n",
      "هي\n",
      "صدم\n",
      "حك\n",
      "\n",
      "واقف\n",
      "سيارة\n",
      "شخص\n",
      "متوقف\n",
      "وجد\n",
      "زجاج\n",
      "مراي\n",
      "حصل\n",
      "كسر\n",
      "سيارة\n",
      "خدش\n",
      "مكسور\n",
      "مصدوم\n",
      "انكسر\n",
      "وجد\n",
      "Key ::  موقف ثنائي\n",
      "طريق\n",
      "مقفل\n",
      "مجهول\n",
      "وجد\n",
      "شخص\n",
      "سيارة\n",
      "سبب\n",
      "محجوز\n",
      "كسر\n",
      "أنا\n",
      "خلف\n",
      "موقف\n",
      "أستطيع\n",
      "لا\n",
      "خروج\n",
      "غلط\n",
      "\n",
      "واحد\n",
      "واقف\n",
      "متوقف\n"
     ]
    }
   ],
   "source": [
    "for key, values in output.items():\n",
    "    print('Key :: ', key)\n",
    "    if(isinstance(values, list)):\n",
    "        for value in values:\n",
    "            print(value)\n",
    "    else:\n",
    "        print(value)"
   ]
  },
  {
   "cell_type": "code",
   "execution_count": 42,
   "metadata": {
    "id": "ZgfBsbRAfyO3"
   },
   "outputs": [],
   "source": [
    "\n",
    "# z=''\n",
    "# while True:\n",
    "\n",
    "#  z=input()\n",
    "#  if z=='السلام عليكم':\n",
    "#    print(\"Bot -> وعليكم السلام ورحمة بركاته؛ اهلا ... كيف استطيع خدمتك؟\")\n",
    "#  elif z=='مع السلامه':\n",
    "#    print(\"Bot -> مع السلامه\")\n",
    "\n",
    "#    break\n",
    "#  else:\n",
    "#   z=z.replace('وراي','خلفي')\n",
    "#   z=z.replace('ورا','خلف')\n",
    "#   arb_stopwords = ['علي','عن','صار','ابغى','ايش','بها','هي','هو','على','وش','ان','لي','هل','فيه','فيها','ماهي','هي','ما','في','هناك','واودّ','و','تم','قام','عليه','عليهم','لقيت','الظاهر']\n",
    "#   z=normalize_alef_ar(z)\n",
    "#   z=normalize_teh_marbuta_ar(z)\n",
    "#   z=normalize_alef_maksura_ar(z)\n",
    "#   y=z.split()\n",
    "#   x=''\n",
    "#   for i in range(0, len(y)):\n",
    "#     if(y[i] not in arb_stopwords):\n",
    "#       x=''+y[i]\n",
    "\n",
    "#   stemmer = FarasaStemmer()\n",
    "#   x=stemmer.stem(x)\n",
    "#   x=x.replace('سيارةه','سيارة')\n",
    "#   x=x.replace('سيارةة','سيارة')\n",
    "#   x=x.replace('سيار','سيارة')\n",
    "\n",
    "#   z=x.split()\n",
    "#   for i in range(0,len(z)):\n",
    "#     for key,value in output.items():\n",
    "#      if z[i] in value:\n",
    "#        if key == 'مخالفات':\n",
    "#          print('Bot -> الاستفسار عن مخالفه: الرجاء تزويدنا برقم لوحة السيارة')\n",
    "#        elif key == 'طفل محتجز':\n",
    "#          print('Bot -> التبليغ عن اطفال متجزين في سيارة: الرجاء تزويدنا برقم لوحة السيارة')\n",
    "#        elif key  == 'موقف ثنائي':\n",
    "#         print('Bot -> التبليغ عن خدش في السيارة: الرجاء تزويدنا برقم لوحة السيارة')\n",
    "#        elif key  == 'اصتدام':\n",
    "#         print('Bot -> التبليغ عن سيارة متوقفة خلف السيارة: الرجاء تزويدنا برقم لوحة السيارة')\n",
    "#        else:\n",
    "#         print('Bot -> لا استطيع فهمك.\\n الرجاء ادخال الشكوى الصحيحه:\\n 1- استفسار عن مخالفه.\\n 2- تبليغ عن خدش في السياره.\\n 3- اطفال مغلق عليهم في سيارة.\\n 4- سيارة موقفة خلف السيارة.')\n",
    "#     else:\n",
    "#        continue\n",
    "\n",
    " \n",
    "      \n",
    " \n",
    "    "
   ]
  },
  {
   "cell_type": "markdown",
   "metadata": {
    "id": "UNbfAcQSByFv"
   },
   "source": [
    "If you use this notebook, please cite our paper :)\n",
    "\n",
    "```\n",
    "Abeer Abuzayed and Hend Al-Khalifa. BERT for Arabic Topic Modeling: An Experimental Study on BERTopic Technique. Arabic Computational Linguistics, Procedia Computer Science, Elsevier, (in press).\n",
    "```\n",
    "\n",
    "\n"
   ]
  }
 ],
 "metadata": {
  "colab": {
   "collapsed_sections": [],
   "name": "NLP and Unsupervised Learning.ipynb",
   "provenance": [],
   "toc_visible": true
  },
  "kernelspec": {
   "display_name": "Python 3 (ipykernel)",
   "language": "python",
   "name": "python3"
  },
  "language_info": {
   "codemirror_mode": {
    "name": "ipython",
    "version": 3
   },
   "file_extension": ".py",
   "mimetype": "text/x-python",
   "name": "python",
   "nbconvert_exporter": "python",
   "pygments_lexer": "ipython3",
   "version": "3.8.12"
  }
 },
 "nbformat": 4,
 "nbformat_minor": 1
}
